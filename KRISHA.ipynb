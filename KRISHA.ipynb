{
 "cells": [
  {
   "cell_type": "code",
   "execution_count": 108,
   "metadata": {},
   "outputs": [],
   "source": [
    "import pandas as pd\n",
    "import numpy as np\n",
    "import matplotlib.pyplot as plt \n",
    "import seaborn as sns"
   ]
  },
  {
   "cell_type": "code",
   "execution_count": 109,
   "metadata": {},
   "outputs": [],
   "source": [
    "df = pd.read_csv('data5.csv', encoding = 'utf-16')"
   ]
  },
  {
   "cell_type": "code",
   "execution_count": 110,
   "metadata": {},
   "outputs": [
    {
     "data": {
      "text/html": [
       "<div>\n",
       "<style scoped>\n",
       "    .dataframe tbody tr th:only-of-type {\n",
       "        vertical-align: middle;\n",
       "    }\n",
       "\n",
       "    .dataframe tbody tr th {\n",
       "        vertical-align: top;\n",
       "    }\n",
       "\n",
       "    .dataframe thead th {\n",
       "        text-align: right;\n",
       "    }\n",
       "</style>\n",
       "<table border=\"1\" class=\"dataframe\">\n",
       "  <thead>\n",
       "    <tr style=\"text-align: right;\">\n",
       "      <th></th>\n",
       "      <th>Unnamed: 0</th>\n",
       "      <th>Price</th>\n",
       "      <th>Rooms</th>\n",
       "      <th>isMortgaged</th>\n",
       "      <th>Building</th>\n",
       "      <th>BuildingType</th>\n",
       "      <th>BuildingYear</th>\n",
       "      <th>Floor</th>\n",
       "      <th>CountOfFloor</th>\n",
       "      <th>Square</th>\n",
       "      <th>...</th>\n",
       "      <th>Country</th>\n",
       "      <th>City</th>\n",
       "      <th>District</th>\n",
       "      <th>Street</th>\n",
       "      <th>HouseNum</th>\n",
       "      <th>Latitude</th>\n",
       "      <th>Longitude</th>\n",
       "      <th>OtherInformation</th>\n",
       "      <th>Comment</th>\n",
       "      <th>Date</th>\n",
       "    </tr>\n",
       "  </thead>\n",
       "  <tbody>\n",
       "    <tr>\n",
       "      <th>0</th>\n",
       "      <td>52917991</td>\n",
       "      <td>19000000</td>\n",
       "      <td>2</td>\n",
       "      <td>Нет</td>\n",
       "      <td>монолитный, 2018 г.п.</td>\n",
       "      <td>NaN</td>\n",
       "      <td>NaN</td>\n",
       "      <td>4 из 9</td>\n",
       "      <td>NaN</td>\n",
       "      <td>55.0</td>\n",
       "      <td>...</td>\n",
       "      <td>Kazahstan</td>\n",
       "      <td>Nur-Sultan_(Astana)</td>\n",
       "      <td>Esilyskiy_r-n</td>\n",
       "      <td>Ilyyasa_Omarova</td>\n",
       "      <td>23</td>\n",
       "      <td>51.139545</td>\n",
       "      <td>71.369721</td>\n",
       "      <td>Пластиковые окна, неугловая, улучшенная, комна...</td>\n",
       "      <td>NaN</td>\n",
       "      <td>NaN</td>\n",
       "    </tr>\n",
       "    <tr>\n",
       "      <th>1</th>\n",
       "      <td>53112971</td>\n",
       "      <td>27300000</td>\n",
       "      <td>3</td>\n",
       "      <td>Нет</td>\n",
       "      <td>кирпичный, 2015 г.п.</td>\n",
       "      <td>NaN</td>\n",
       "      <td>NaN</td>\n",
       "      <td>12 из 14</td>\n",
       "      <td>NaN</td>\n",
       "      <td>85.0</td>\n",
       "      <td>...</td>\n",
       "      <td>Kazahstan</td>\n",
       "      <td>Nur-Sultan_(Astana)</td>\n",
       "      <td>Esilyskiy_r-n</td>\n",
       "      <td>prospekt_Mangilik_El</td>\n",
       "      <td>17</td>\n",
       "      <td>51.115090</td>\n",
       "      <td>71.434078</td>\n",
       "      <td>Комнаты изолированы, тихий двор.</td>\n",
       "      <td>NaN</td>\n",
       "      <td>NaN</td>\n",
       "    </tr>\n",
       "    <tr>\n",
       "      <th>2</th>\n",
       "      <td>53265724</td>\n",
       "      <td>17350000</td>\n",
       "      <td>2</td>\n",
       "      <td>Нет</td>\n",
       "      <td>2015 г.п.</td>\n",
       "      <td>NaN</td>\n",
       "      <td>NaN</td>\n",
       "      <td>19 из 24</td>\n",
       "      <td>NaN</td>\n",
       "      <td>73.0</td>\n",
       "      <td>...</td>\n",
       "      <td>Kazahstan</td>\n",
       "      <td>Nur-Sultan_(Astana)</td>\n",
       "      <td>Almatinskiy_r-n</td>\n",
       "      <td>Ahmeta_Baytursynova</td>\n",
       "      <td>17</td>\n",
       "      <td>51.123659</td>\n",
       "      <td>71.475127</td>\n",
       "      <td>Кухня-студия, встроенная кухня, тихий двор.</td>\n",
       "      <td>NaN</td>\n",
       "      <td>NaN</td>\n",
       "    </tr>\n",
       "    <tr>\n",
       "      <th>3</th>\n",
       "      <td>52527406</td>\n",
       "      <td>145000000</td>\n",
       "      <td>4</td>\n",
       "      <td>Нет</td>\n",
       "      <td>2014 г.п.</td>\n",
       "      <td>NaN</td>\n",
       "      <td>NaN</td>\n",
       "      <td>6 из 19</td>\n",
       "      <td>NaN</td>\n",
       "      <td>180.0</td>\n",
       "      <td>...</td>\n",
       "      <td>Kazahstan</td>\n",
       "      <td>Almaty</td>\n",
       "      <td>Medeuskiy_r-n</td>\n",
       "      <td>ALY-FARABI</td>\n",
       "      <td>21</td>\n",
       "      <td>43.228729</td>\n",
       "      <td>76.941899</td>\n",
       "      <td>Пластиковые окна, улучшенная, кладовка, тихий ...</td>\n",
       "      <td>NaN</td>\n",
       "      <td>NaN</td>\n",
       "    </tr>\n",
       "    <tr>\n",
       "      <th>4</th>\n",
       "      <td>53091362</td>\n",
       "      <td>18400000</td>\n",
       "      <td>1</td>\n",
       "      <td>Нет</td>\n",
       "      <td>монолитный, 2015 г.п.</td>\n",
       "      <td>NaN</td>\n",
       "      <td>NaN</td>\n",
       "      <td>4 из 14</td>\n",
       "      <td>NaN</td>\n",
       "      <td>45.0</td>\n",
       "      <td>...</td>\n",
       "      <td>Kazahstan</td>\n",
       "      <td>Nur-Sultan_(Astana)</td>\n",
       "      <td>Esilyskiy_r-n</td>\n",
       "      <td>Sarayshyk</td>\n",
       "      <td>7</td>\n",
       "      <td>51.135119</td>\n",
       "      <td>71.427339</td>\n",
       "      <td>Пластиковые окна, неугловая, улучшенная, комна...</td>\n",
       "      <td>NaN</td>\n",
       "      <td>NaN</td>\n",
       "    </tr>\n",
       "  </tbody>\n",
       "</table>\n",
       "<p>5 rows × 35 columns</p>\n",
       "</div>"
      ],
      "text/plain": [
       "  Unnamed: 0      Price  Rooms isMortgaged               Building  \\\n",
       "0   52917991   19000000      2         Нет  монолитный, 2018 г.п.   \n",
       "1   53112971   27300000      3         Нет   кирпичный, 2015 г.п.   \n",
       "2   53265724   17350000      2         Нет              2015 г.п.   \n",
       "3   52527406  145000000      4         Нет              2014 г.п.   \n",
       "4   53091362   18400000      1         Нет  монолитный, 2015 г.п.   \n",
       "\n",
       "   BuildingType  BuildingYear     Floor  CountOfFloor  Square  ...    Country  \\\n",
       "0           NaN           NaN    4 из 9           NaN    55.0  ...  Kazahstan   \n",
       "1           NaN           NaN  12 из 14           NaN    85.0  ...  Kazahstan   \n",
       "2           NaN           NaN  19 из 24           NaN    73.0  ...  Kazahstan   \n",
       "3           NaN           NaN   6 из 19           NaN   180.0  ...  Kazahstan   \n",
       "4           NaN           NaN   4 из 14           NaN    45.0  ...  Kazahstan   \n",
       "\n",
       "                  City         District                Street HouseNum  \\\n",
       "0  Nur-Sultan_(Astana)    Esilyskiy_r-n       Ilyyasa_Omarova       23   \n",
       "1  Nur-Sultan_(Astana)    Esilyskiy_r-n  prospekt_Mangilik_El       17   \n",
       "2  Nur-Sultan_(Astana)  Almatinskiy_r-n   Ahmeta_Baytursynova       17   \n",
       "3               Almaty    Medeuskiy_r-n            ALY-FARABI       21   \n",
       "4  Nur-Sultan_(Astana)    Esilyskiy_r-n             Sarayshyk        7   \n",
       "\n",
       "    Latitude  Longitude                                   OtherInformation  \\\n",
       "0  51.139545  71.369721  Пластиковые окна, неугловая, улучшенная, комна...   \n",
       "1  51.115090  71.434078                   Комнаты изолированы, тихий двор.   \n",
       "2  51.123659  71.475127        Кухня-студия, встроенная кухня, тихий двор.   \n",
       "3  43.228729  76.941899  Пластиковые окна, улучшенная, кладовка, тихий ...   \n",
       "4  51.135119  71.427339  Пластиковые окна, неугловая, улучшенная, комна...   \n",
       "\n",
       "  Comment Date  \n",
       "0     NaN  NaN  \n",
       "1     NaN  NaN  \n",
       "2     NaN  NaN  \n",
       "3     NaN  NaN  \n",
       "4     NaN  NaN  \n",
       "\n",
       "[5 rows x 35 columns]"
      ]
     },
     "execution_count": 110,
     "metadata": {},
     "output_type": "execute_result"
    }
   ],
   "source": [
    "df.head()"
   ]
  },
  {
   "cell_type": "code",
   "execution_count": 111,
   "metadata": {},
   "outputs": [
    {
     "data": {
      "text/html": [
       "<div>\n",
       "<style scoped>\n",
       "    .dataframe tbody tr th:only-of-type {\n",
       "        vertical-align: middle;\n",
       "    }\n",
       "\n",
       "    .dataframe tbody tr th {\n",
       "        vertical-align: top;\n",
       "    }\n",
       "\n",
       "    .dataframe thead th {\n",
       "        text-align: right;\n",
       "    }\n",
       "</style>\n",
       "<table border=\"1\" class=\"dataframe\">\n",
       "  <thead>\n",
       "    <tr style=\"text-align: right;\">\n",
       "      <th></th>\n",
       "      <th>Unnamed: 0</th>\n",
       "      <th>Price</th>\n",
       "      <th>Rooms</th>\n",
       "      <th>isMortgaged</th>\n",
       "      <th>Building</th>\n",
       "      <th>BuildingType</th>\n",
       "      <th>BuildingYear</th>\n",
       "      <th>Floor</th>\n",
       "      <th>CountOfFloor</th>\n",
       "      <th>Square</th>\n",
       "      <th>...</th>\n",
       "      <th>Country</th>\n",
       "      <th>City</th>\n",
       "      <th>District</th>\n",
       "      <th>Street</th>\n",
       "      <th>HouseNum</th>\n",
       "      <th>Latitude</th>\n",
       "      <th>Longitude</th>\n",
       "      <th>OtherInformation</th>\n",
       "      <th>Comment</th>\n",
       "      <th>Date</th>\n",
       "    </tr>\n",
       "  </thead>\n",
       "  <tbody>\n",
       "    <tr>\n",
       "      <th>828</th>\n",
       "      <td>52583770</td>\n",
       "      <td>36500000</td>\n",
       "      <td>2</td>\n",
       "      <td>Нет</td>\n",
       "      <td>кирпичный, 2018 г.п.</td>\n",
       "      <td>NaN</td>\n",
       "      <td>NaN</td>\n",
       "      <td>7 из 9</td>\n",
       "      <td>NaN</td>\n",
       "      <td>90.3</td>\n",
       "      <td>...</td>\n",
       "      <td>Kazahstan</td>\n",
       "      <td>Nur-Sultan_(Astana)</td>\n",
       "      <td>Esilyskiy_r-n</td>\n",
       "      <td>Turan</td>\n",
       "      <td>22</td>\n",
       "      <td>51.140534</td>\n",
       "      <td>71.410702</td>\n",
       "      <td>Улучшенная, комнаты изолированы, счётчики, тих...</td>\n",
       "      <td>NaN</td>\n",
       "      <td>NaN</td>\n",
       "    </tr>\n",
       "    <tr>\n",
       "      <th>2947</th>\n",
       "      <td>30416911</td>\n",
       "      <td>120000000</td>\n",
       "      <td>4</td>\n",
       "      <td>Нет</td>\n",
       "      <td>монолитный, 2009 г.п.</td>\n",
       "      <td>NaN</td>\n",
       "      <td>NaN</td>\n",
       "      <td>2 из 14</td>\n",
       "      <td>NaN</td>\n",
       "      <td>208.0</td>\n",
       "      <td>...</td>\n",
       "      <td>Kazahstan</td>\n",
       "      <td>Nur-Sultan_(Astana)</td>\n",
       "      <td>Esilyskiy_r-n</td>\n",
       "      <td>Kunaeva</td>\n",
       "      <td>12/2</td>\n",
       "      <td>51.129778</td>\n",
       "      <td>71.426566</td>\n",
       "      <td>Пластиковые окна, тихий двор, кондиционер, ком...</td>\n",
       "      <td>NaN</td>\n",
       "      <td>NaN</td>\n",
       "    </tr>\n",
       "    <tr>\n",
       "      <th>3355</th>\n",
       "      <td>29860433</td>\n",
       "      <td>9000000</td>\n",
       "      <td>3</td>\n",
       "      <td>Нет</td>\n",
       "      <td>кирпичный, 1992 г.п.</td>\n",
       "      <td>NaN</td>\n",
       "      <td>NaN</td>\n",
       "      <td>2 из 5</td>\n",
       "      <td>NaN</td>\n",
       "      <td>70.0</td>\n",
       "      <td>...</td>\n",
       "      <td>Kazahstan</td>\n",
       "      <td>Kyzylorda</td>\n",
       "      <td>NaN</td>\n",
       "      <td>Akmeshіt</td>\n",
       "      <td>7</td>\n",
       "      <td>44.854117</td>\n",
       "      <td>65.473790</td>\n",
       "      <td>Улучшенная, новая сантехника, счётчики, пласти...</td>\n",
       "      <td>NaN</td>\n",
       "      <td>NaN</td>\n",
       "    </tr>\n",
       "    <tr>\n",
       "      <th>5101</th>\n",
       "      <td>52673123</td>\n",
       "      <td>25000000</td>\n",
       "      <td>2</td>\n",
       "      <td>Нет</td>\n",
       "      <td>кирпичный, 2016 г.п.</td>\n",
       "      <td>NaN</td>\n",
       "      <td>NaN</td>\n",
       "      <td>4 из 9</td>\n",
       "      <td>NaN</td>\n",
       "      <td>68.0</td>\n",
       "      <td>...</td>\n",
       "      <td>Kazahstan</td>\n",
       "      <td>Nur-Sultan_(Astana)</td>\n",
       "      <td>Esilyskiy_r-n</td>\n",
       "      <td>Chingiz_Aytmatova</td>\n",
       "      <td>31b</td>\n",
       "      <td>51.134413</td>\n",
       "      <td>71.361214</td>\n",
       "      <td>Пластиковые окна, неугловая, улучшенная, комна...</td>\n",
       "      <td>NaN</td>\n",
       "      <td>NaN</td>\n",
       "    </tr>\n",
       "  </tbody>\n",
       "</table>\n",
       "<p>4 rows × 35 columns</p>\n",
       "</div>"
      ],
      "text/plain": [
       "     Unnamed: 0      Price  Rooms isMortgaged               Building  \\\n",
       "828    52583770   36500000      2         Нет   кирпичный, 2018 г.п.   \n",
       "2947   30416911  120000000      4         Нет  монолитный, 2009 г.п.   \n",
       "3355   29860433    9000000      3         Нет   кирпичный, 1992 г.п.   \n",
       "5101   52673123   25000000      2         Нет   кирпичный, 2016 г.п.   \n",
       "\n",
       "      BuildingType  BuildingYear    Floor  CountOfFloor  Square  ...  \\\n",
       "828            NaN           NaN   7 из 9           NaN    90.3  ...   \n",
       "2947           NaN           NaN  2 из 14           NaN   208.0  ...   \n",
       "3355           NaN           NaN   2 из 5           NaN    70.0  ...   \n",
       "5101           NaN           NaN   4 из 9           NaN    68.0  ...   \n",
       "\n",
       "        Country                 City       District             Street  \\\n",
       "828   Kazahstan  Nur-Sultan_(Astana)  Esilyskiy_r-n              Turan   \n",
       "2947  Kazahstan  Nur-Sultan_(Astana)  Esilyskiy_r-n            Kunaeva   \n",
       "3355  Kazahstan            Kyzylorda            NaN           Akmeshіt   \n",
       "5101  Kazahstan  Nur-Sultan_(Astana)  Esilyskiy_r-n  Chingiz_Aytmatova   \n",
       "\n",
       "     HouseNum   Latitude  Longitude  \\\n",
       "828        22  51.140534  71.410702   \n",
       "2947     12/2  51.129778  71.426566   \n",
       "3355        7  44.854117  65.473790   \n",
       "5101      31b  51.134413  71.361214   \n",
       "\n",
       "                                       OtherInformation Comment Date  \n",
       "828   Улучшенная, комнаты изолированы, счётчики, тих...     NaN  NaN  \n",
       "2947  Пластиковые окна, тихий двор, кондиционер, ком...     NaN  NaN  \n",
       "3355  Улучшенная, новая сантехника, счётчики, пласти...     NaN  NaN  \n",
       "5101  Пластиковые окна, неугловая, улучшенная, комна...     NaN  NaN  \n",
       "\n",
       "[4 rows x 35 columns]"
      ]
     },
     "execution_count": 111,
     "metadata": {},
     "output_type": "execute_result"
    }
   ],
   "source": [
    "df.sample(4)"
   ]
  },
  {
   "cell_type": "code",
   "execution_count": 112,
   "metadata": {},
   "outputs": [
    {
     "data": {
      "text/plain": [
       "Нет                                 5536\n",
       "\\n            В залоге\\n             245\n",
       "Name: isMortgaged, dtype: int64"
      ]
     },
     "execution_count": 112,
     "metadata": {},
     "output_type": "execute_result"
    }
   ],
   "source": [
    "df['isMortgaged'].value_counts()"
   ]
  },
  {
   "cell_type": "code",
   "execution_count": 113,
   "metadata": {},
   "outputs": [
    {
     "data": {
      "text/html": [
       "<div>\n",
       "<style scoped>\n",
       "    .dataframe tbody tr th:only-of-type {\n",
       "        vertical-align: middle;\n",
       "    }\n",
       "\n",
       "    .dataframe tbody tr th {\n",
       "        vertical-align: top;\n",
       "    }\n",
       "\n",
       "    .dataframe thead th {\n",
       "        text-align: right;\n",
       "    }\n",
       "</style>\n",
       "<table border=\"1\" class=\"dataframe\">\n",
       "  <thead>\n",
       "    <tr style=\"text-align: right;\">\n",
       "      <th></th>\n",
       "      <th>Unnamed: 0</th>\n",
       "      <th>Price</th>\n",
       "      <th>Rooms</th>\n",
       "      <th>isMortgaged</th>\n",
       "      <th>Building</th>\n",
       "      <th>BuildingType</th>\n",
       "      <th>BuildingYear</th>\n",
       "      <th>Floor</th>\n",
       "      <th>CountOfFloor</th>\n",
       "      <th>Square</th>\n",
       "      <th>...</th>\n",
       "      <th>Country</th>\n",
       "      <th>City</th>\n",
       "      <th>District</th>\n",
       "      <th>Street</th>\n",
       "      <th>HouseNum</th>\n",
       "      <th>Latitude</th>\n",
       "      <th>Longitude</th>\n",
       "      <th>OtherInformation</th>\n",
       "      <th>Comment</th>\n",
       "      <th>Date</th>\n",
       "    </tr>\n",
       "  </thead>\n",
       "  <tbody>\n",
       "    <tr>\n",
       "      <th>0</th>\n",
       "      <td>52917991</td>\n",
       "      <td>19000000</td>\n",
       "      <td>2</td>\n",
       "      <td>False</td>\n",
       "      <td>монолитный, 2018 г.п.</td>\n",
       "      <td>NaN</td>\n",
       "      <td>NaN</td>\n",
       "      <td>4 из 9</td>\n",
       "      <td>NaN</td>\n",
       "      <td>55.0</td>\n",
       "      <td>...</td>\n",
       "      <td>Kazahstan</td>\n",
       "      <td>Nur-Sultan_(Astana)</td>\n",
       "      <td>Esilyskiy_r-n</td>\n",
       "      <td>Ilyyasa_Omarova</td>\n",
       "      <td>23</td>\n",
       "      <td>51.139545</td>\n",
       "      <td>71.369721</td>\n",
       "      <td>Пластиковые окна, неугловая, улучшенная, комна...</td>\n",
       "      <td>NaN</td>\n",
       "      <td>NaN</td>\n",
       "    </tr>\n",
       "    <tr>\n",
       "      <th>1</th>\n",
       "      <td>53112971</td>\n",
       "      <td>27300000</td>\n",
       "      <td>3</td>\n",
       "      <td>False</td>\n",
       "      <td>кирпичный, 2015 г.п.</td>\n",
       "      <td>NaN</td>\n",
       "      <td>NaN</td>\n",
       "      <td>12 из 14</td>\n",
       "      <td>NaN</td>\n",
       "      <td>85.0</td>\n",
       "      <td>...</td>\n",
       "      <td>Kazahstan</td>\n",
       "      <td>Nur-Sultan_(Astana)</td>\n",
       "      <td>Esilyskiy_r-n</td>\n",
       "      <td>prospekt_Mangilik_El</td>\n",
       "      <td>17</td>\n",
       "      <td>51.115090</td>\n",
       "      <td>71.434078</td>\n",
       "      <td>Комнаты изолированы, тихий двор.</td>\n",
       "      <td>NaN</td>\n",
       "      <td>NaN</td>\n",
       "    </tr>\n",
       "    <tr>\n",
       "      <th>2</th>\n",
       "      <td>53265724</td>\n",
       "      <td>17350000</td>\n",
       "      <td>2</td>\n",
       "      <td>False</td>\n",
       "      <td>2015 г.п.</td>\n",
       "      <td>NaN</td>\n",
       "      <td>NaN</td>\n",
       "      <td>19 из 24</td>\n",
       "      <td>NaN</td>\n",
       "      <td>73.0</td>\n",
       "      <td>...</td>\n",
       "      <td>Kazahstan</td>\n",
       "      <td>Nur-Sultan_(Astana)</td>\n",
       "      <td>Almatinskiy_r-n</td>\n",
       "      <td>Ahmeta_Baytursynova</td>\n",
       "      <td>17</td>\n",
       "      <td>51.123659</td>\n",
       "      <td>71.475127</td>\n",
       "      <td>Кухня-студия, встроенная кухня, тихий двор.</td>\n",
       "      <td>NaN</td>\n",
       "      <td>NaN</td>\n",
       "    </tr>\n",
       "    <tr>\n",
       "      <th>3</th>\n",
       "      <td>52527406</td>\n",
       "      <td>145000000</td>\n",
       "      <td>4</td>\n",
       "      <td>False</td>\n",
       "      <td>2014 г.п.</td>\n",
       "      <td>NaN</td>\n",
       "      <td>NaN</td>\n",
       "      <td>6 из 19</td>\n",
       "      <td>NaN</td>\n",
       "      <td>180.0</td>\n",
       "      <td>...</td>\n",
       "      <td>Kazahstan</td>\n",
       "      <td>Almaty</td>\n",
       "      <td>Medeuskiy_r-n</td>\n",
       "      <td>ALY-FARABI</td>\n",
       "      <td>21</td>\n",
       "      <td>43.228729</td>\n",
       "      <td>76.941899</td>\n",
       "      <td>Пластиковые окна, улучшенная, кладовка, тихий ...</td>\n",
       "      <td>NaN</td>\n",
       "      <td>NaN</td>\n",
       "    </tr>\n",
       "    <tr>\n",
       "      <th>4</th>\n",
       "      <td>53091362</td>\n",
       "      <td>18400000</td>\n",
       "      <td>1</td>\n",
       "      <td>False</td>\n",
       "      <td>монолитный, 2015 г.п.</td>\n",
       "      <td>NaN</td>\n",
       "      <td>NaN</td>\n",
       "      <td>4 из 14</td>\n",
       "      <td>NaN</td>\n",
       "      <td>45.0</td>\n",
       "      <td>...</td>\n",
       "      <td>Kazahstan</td>\n",
       "      <td>Nur-Sultan_(Astana)</td>\n",
       "      <td>Esilyskiy_r-n</td>\n",
       "      <td>Sarayshyk</td>\n",
       "      <td>7</td>\n",
       "      <td>51.135119</td>\n",
       "      <td>71.427339</td>\n",
       "      <td>Пластиковые окна, неугловая, улучшенная, комна...</td>\n",
       "      <td>NaN</td>\n",
       "      <td>NaN</td>\n",
       "    </tr>\n",
       "  </tbody>\n",
       "</table>\n",
       "<p>5 rows × 35 columns</p>\n",
       "</div>"
      ],
      "text/plain": [
       "  Unnamed: 0      Price  Rooms  isMortgaged               Building  \\\n",
       "0   52917991   19000000      2        False  монолитный, 2018 г.п.   \n",
       "1   53112971   27300000      3        False   кирпичный, 2015 г.п.   \n",
       "2   53265724   17350000      2        False              2015 г.п.   \n",
       "3   52527406  145000000      4        False              2014 г.п.   \n",
       "4   53091362   18400000      1        False  монолитный, 2015 г.п.   \n",
       "\n",
       "   BuildingType  BuildingYear     Floor  CountOfFloor  Square  ...    Country  \\\n",
       "0           NaN           NaN    4 из 9           NaN    55.0  ...  Kazahstan   \n",
       "1           NaN           NaN  12 из 14           NaN    85.0  ...  Kazahstan   \n",
       "2           NaN           NaN  19 из 24           NaN    73.0  ...  Kazahstan   \n",
       "3           NaN           NaN   6 из 19           NaN   180.0  ...  Kazahstan   \n",
       "4           NaN           NaN   4 из 14           NaN    45.0  ...  Kazahstan   \n",
       "\n",
       "                  City         District                Street HouseNum  \\\n",
       "0  Nur-Sultan_(Astana)    Esilyskiy_r-n       Ilyyasa_Omarova       23   \n",
       "1  Nur-Sultan_(Astana)    Esilyskiy_r-n  prospekt_Mangilik_El       17   \n",
       "2  Nur-Sultan_(Astana)  Almatinskiy_r-n   Ahmeta_Baytursynova       17   \n",
       "3               Almaty    Medeuskiy_r-n            ALY-FARABI       21   \n",
       "4  Nur-Sultan_(Astana)    Esilyskiy_r-n             Sarayshyk        7   \n",
       "\n",
       "    Latitude  Longitude                                   OtherInformation  \\\n",
       "0  51.139545  71.369721  Пластиковые окна, неугловая, улучшенная, комна...   \n",
       "1  51.115090  71.434078                   Комнаты изолированы, тихий двор.   \n",
       "2  51.123659  71.475127        Кухня-студия, встроенная кухня, тихий двор.   \n",
       "3  43.228729  76.941899  Пластиковые окна, улучшенная, кладовка, тихий ...   \n",
       "4  51.135119  71.427339  Пластиковые окна, неугловая, улучшенная, комна...   \n",
       "\n",
       "  Comment Date  \n",
       "0     NaN  NaN  \n",
       "1     NaN  NaN  \n",
       "2     NaN  NaN  \n",
       "3     NaN  NaN  \n",
       "4     NaN  NaN  \n",
       "\n",
       "[5 rows x 35 columns]"
      ]
     },
     "execution_count": 113,
     "metadata": {},
     "output_type": "execute_result"
    }
   ],
   "source": [
    "d = {'Нет' : False, '\\n            В залоге\\n' : True}\n",
    "df['isMortgaged'] = df['isMortgaged'].map(d).astype('bool')\n",
    "df.head()"
   ]
  },
  {
   "cell_type": "code",
   "execution_count": 114,
   "metadata": {},
   "outputs": [
    {
     "data": {
      "text/html": [
       "<div>\n",
       "<style scoped>\n",
       "    .dataframe tbody tr th:only-of-type {\n",
       "        vertical-align: middle;\n",
       "    }\n",
       "\n",
       "    .dataframe tbody tr th {\n",
       "        vertical-align: top;\n",
       "    }\n",
       "\n",
       "    .dataframe thead th {\n",
       "        text-align: right;\n",
       "    }\n",
       "</style>\n",
       "<table border=\"1\" class=\"dataframe\">\n",
       "  <thead>\n",
       "    <tr style=\"text-align: right;\">\n",
       "      <th></th>\n",
       "      <th>Unnamed: 0</th>\n",
       "      <th>Price</th>\n",
       "      <th>Rooms</th>\n",
       "      <th>isMortgaged</th>\n",
       "      <th>Building</th>\n",
       "      <th>BuildingType</th>\n",
       "      <th>BuildingYear</th>\n",
       "      <th>Floor</th>\n",
       "      <th>CountOfFloor</th>\n",
       "      <th>Square</th>\n",
       "      <th>...</th>\n",
       "      <th>Country</th>\n",
       "      <th>City</th>\n",
       "      <th>District</th>\n",
       "      <th>Street</th>\n",
       "      <th>HouseNum</th>\n",
       "      <th>Latitude</th>\n",
       "      <th>Longitude</th>\n",
       "      <th>OtherInformation</th>\n",
       "      <th>Comment</th>\n",
       "      <th>Date</th>\n",
       "    </tr>\n",
       "  </thead>\n",
       "  <tbody>\n",
       "    <tr>\n",
       "      <th>0</th>\n",
       "      <td>52917991</td>\n",
       "      <td>19000000</td>\n",
       "      <td>2</td>\n",
       "      <td>False</td>\n",
       "      <td>монолитный, 2018 г.п.</td>\n",
       "      <td>NaN</td>\n",
       "      <td>NaN</td>\n",
       "      <td>4 из 9</td>\n",
       "      <td>NaN</td>\n",
       "      <td>55.0</td>\n",
       "      <td>...</td>\n",
       "      <td>Kazahstan</td>\n",
       "      <td>Nur-Sultan_(Astana)</td>\n",
       "      <td>Esilyskiy_r-n</td>\n",
       "      <td>Ilyyasa_Omarova</td>\n",
       "      <td>23</td>\n",
       "      <td>51.139545</td>\n",
       "      <td>71.369721</td>\n",
       "      <td>Пластиковые окна, неугловая, улучшенная, комна...</td>\n",
       "      <td>NaN</td>\n",
       "      <td>NaN</td>\n",
       "    </tr>\n",
       "  </tbody>\n",
       "</table>\n",
       "<p>1 rows × 35 columns</p>\n",
       "</div>"
      ],
      "text/plain": [
       "  Unnamed: 0     Price  Rooms  isMortgaged               Building  \\\n",
       "0   52917991  19000000      2        False  монолитный, 2018 г.п.   \n",
       "\n",
       "   BuildingType  BuildingYear   Floor  CountOfFloor  Square  ...    Country  \\\n",
       "0           NaN           NaN  4 из 9           NaN    55.0  ...  Kazahstan   \n",
       "\n",
       "                  City       District           Street HouseNum   Latitude  \\\n",
       "0  Nur-Sultan_(Astana)  Esilyskiy_r-n  Ilyyasa_Omarova       23  51.139545   \n",
       "\n",
       "   Longitude                                   OtherInformation Comment Date  \n",
       "0  71.369721  Пластиковые окна, неугловая, улучшенная, комна...     NaN  NaN  \n",
       "\n",
       "[1 rows x 35 columns]"
      ]
     },
     "execution_count": 114,
     "metadata": {},
     "output_type": "execute_result"
    }
   ],
   "source": [
    "df.head(1)"
   ]
  },
  {
   "cell_type": "code",
   "execution_count": 115,
   "metadata": {},
   "outputs": [],
   "source": [
    "asd = df['Building'].str.split(', ', expand = True)\n",
    "asd[1].fillna(value = pd.np.nan, inplace = True)\n",
    "\n",
    "years = asd[asd[1].isnull()][0]\n",
    "asd[asd[1].isnull()] = pd.np.nan\n",
    "asd[1].fillna(value=years, inplace=True)\n",
    "new = asd[1].str.split(' ',expand = True)\n",
    "asd[0].fillna(value=4,inplace=True)\n",
    "df['BuildingType'] = asd[0]\n",
    "df['BuildingYear'] = new[0]"
   ]
  },
  {
   "cell_type": "code",
   "execution_count": 116,
   "metadata": {},
   "outputs": [
    {
     "data": {
      "text/plain": [
       "0    монолитный\n",
       "1     кирпичный\n",
       "2             4\n",
       "3             4\n",
       "4    монолитный\n",
       "Name: 0, dtype: object"
      ]
     },
     "execution_count": 116,
     "metadata": {},
     "output_type": "execute_result"
    }
   ],
   "source": [
    "asd[0].head()"
   ]
  },
  {
   "cell_type": "code",
   "execution_count": 117,
   "metadata": {},
   "outputs": [],
   "source": [
    "df.drop(['Building'],axis=1,inplace=True)"
   ]
  },
  {
   "cell_type": "code",
   "execution_count": 118,
   "metadata": {},
   "outputs": [],
   "source": [
    "df['BuildingYear'] = df['BuildingYear'].astype('int64')"
   ]
  },
  {
   "cell_type": "code",
   "execution_count": 119,
   "metadata": {},
   "outputs": [
    {
     "data": {
      "text/html": [
       "<div>\n",
       "<style scoped>\n",
       "    .dataframe tbody tr th:only-of-type {\n",
       "        vertical-align: middle;\n",
       "    }\n",
       "\n",
       "    .dataframe tbody tr th {\n",
       "        vertical-align: top;\n",
       "    }\n",
       "\n",
       "    .dataframe thead th {\n",
       "        text-align: right;\n",
       "    }\n",
       "</style>\n",
       "<table border=\"1\" class=\"dataframe\">\n",
       "  <thead>\n",
       "    <tr style=\"text-align: right;\">\n",
       "      <th></th>\n",
       "      <th>Unnamed: 0</th>\n",
       "      <th>Price</th>\n",
       "      <th>Rooms</th>\n",
       "      <th>isMortgaged</th>\n",
       "      <th>BuildingType</th>\n",
       "      <th>BuildingYear</th>\n",
       "      <th>Floor</th>\n",
       "      <th>CountOfFloor</th>\n",
       "      <th>Square</th>\n",
       "      <th>PrivDormitory</th>\n",
       "      <th>...</th>\n",
       "      <th>Country</th>\n",
       "      <th>City</th>\n",
       "      <th>District</th>\n",
       "      <th>Street</th>\n",
       "      <th>HouseNum</th>\n",
       "      <th>Latitude</th>\n",
       "      <th>Longitude</th>\n",
       "      <th>OtherInformation</th>\n",
       "      <th>Comment</th>\n",
       "      <th>Date</th>\n",
       "    </tr>\n",
       "  </thead>\n",
       "  <tbody>\n",
       "    <tr>\n",
       "      <th>0</th>\n",
       "      <td>52917991</td>\n",
       "      <td>19000000</td>\n",
       "      <td>2</td>\n",
       "      <td>False</td>\n",
       "      <td>монолитный</td>\n",
       "      <td>2018</td>\n",
       "      <td>4 из 9</td>\n",
       "      <td>NaN</td>\n",
       "      <td>55.0</td>\n",
       "      <td>нет</td>\n",
       "      <td>...</td>\n",
       "      <td>Kazahstan</td>\n",
       "      <td>Nur-Sultan_(Astana)</td>\n",
       "      <td>Esilyskiy_r-n</td>\n",
       "      <td>Ilyyasa_Omarova</td>\n",
       "      <td>23</td>\n",
       "      <td>51.139545</td>\n",
       "      <td>71.369721</td>\n",
       "      <td>Пластиковые окна, неугловая, улучшенная, комна...</td>\n",
       "      <td>NaN</td>\n",
       "      <td>NaN</td>\n",
       "    </tr>\n",
       "    <tr>\n",
       "      <th>1</th>\n",
       "      <td>53112971</td>\n",
       "      <td>27300000</td>\n",
       "      <td>3</td>\n",
       "      <td>False</td>\n",
       "      <td>кирпичный</td>\n",
       "      <td>2015</td>\n",
       "      <td>12 из 14</td>\n",
       "      <td>NaN</td>\n",
       "      <td>85.0</td>\n",
       "      <td>нет</td>\n",
       "      <td>...</td>\n",
       "      <td>Kazahstan</td>\n",
       "      <td>Nur-Sultan_(Astana)</td>\n",
       "      <td>Esilyskiy_r-n</td>\n",
       "      <td>prospekt_Mangilik_El</td>\n",
       "      <td>17</td>\n",
       "      <td>51.115090</td>\n",
       "      <td>71.434078</td>\n",
       "      <td>Комнаты изолированы, тихий двор.</td>\n",
       "      <td>NaN</td>\n",
       "      <td>NaN</td>\n",
       "    </tr>\n",
       "    <tr>\n",
       "      <th>2</th>\n",
       "      <td>53265724</td>\n",
       "      <td>17350000</td>\n",
       "      <td>2</td>\n",
       "      <td>False</td>\n",
       "      <td>4</td>\n",
       "      <td>2015</td>\n",
       "      <td>19 из 24</td>\n",
       "      <td>NaN</td>\n",
       "      <td>73.0</td>\n",
       "      <td>нет</td>\n",
       "      <td>...</td>\n",
       "      <td>Kazahstan</td>\n",
       "      <td>Nur-Sultan_(Astana)</td>\n",
       "      <td>Almatinskiy_r-n</td>\n",
       "      <td>Ahmeta_Baytursynova</td>\n",
       "      <td>17</td>\n",
       "      <td>51.123659</td>\n",
       "      <td>71.475127</td>\n",
       "      <td>Кухня-студия, встроенная кухня, тихий двор.</td>\n",
       "      <td>NaN</td>\n",
       "      <td>NaN</td>\n",
       "    </tr>\n",
       "  </tbody>\n",
       "</table>\n",
       "<p>3 rows × 34 columns</p>\n",
       "</div>"
      ],
      "text/plain": [
       "  Unnamed: 0     Price  Rooms  isMortgaged BuildingType  BuildingYear  \\\n",
       "0   52917991  19000000      2        False   монолитный          2018   \n",
       "1   53112971  27300000      3        False    кирпичный          2015   \n",
       "2   53265724  17350000      2        False            4          2015   \n",
       "\n",
       "      Floor  CountOfFloor  Square PrivDormitory  ...    Country  \\\n",
       "0    4 из 9           NaN    55.0           нет  ...  Kazahstan   \n",
       "1  12 из 14           NaN    85.0           нет  ...  Kazahstan   \n",
       "2  19 из 24           NaN    73.0           нет  ...  Kazahstan   \n",
       "\n",
       "                  City         District                Street HouseNum  \\\n",
       "0  Nur-Sultan_(Astana)    Esilyskiy_r-n       Ilyyasa_Omarova       23   \n",
       "1  Nur-Sultan_(Astana)    Esilyskiy_r-n  prospekt_Mangilik_El       17   \n",
       "2  Nur-Sultan_(Astana)  Almatinskiy_r-n   Ahmeta_Baytursynova       17   \n",
       "\n",
       "    Latitude  Longitude                                   OtherInformation  \\\n",
       "0  51.139545  71.369721  Пластиковые окна, неугловая, улучшенная, комна...   \n",
       "1  51.115090  71.434078                   Комнаты изолированы, тихий двор.   \n",
       "2  51.123659  71.475127        Кухня-студия, встроенная кухня, тихий двор.   \n",
       "\n",
       "  Comment Date  \n",
       "0     NaN  NaN  \n",
       "1     NaN  NaN  \n",
       "2     NaN  NaN  \n",
       "\n",
       "[3 rows x 34 columns]"
      ]
     },
     "execution_count": 119,
     "metadata": {},
     "output_type": "execute_result"
    }
   ],
   "source": [
    "df.head(3)"
   ]
  },
  {
   "cell_type": "code",
   "execution_count": 120,
   "metadata": {},
   "outputs": [],
   "source": [
    "df['BuildingYear'].fillna(value = 4 , inplace = True)"
   ]
  },
  {
   "cell_type": "code",
   "execution_count": 121,
   "metadata": {},
   "outputs": [],
   "source": [
    "df['BuildingType'].value_counts()\n",
    "#кирпичный 1 , монолитный 2,панельный 3, иное 4\n",
    "\n",
    "d = {'кирпичный' : 1, 'монолитный' : 2, 'панельный' : 3, 'иное' : 4 ,4:4}\n",
    "df['BuildingType'] = df['BuildingType'].map(d)"
   ]
  },
  {
   "cell_type": "code",
   "execution_count": 122,
   "metadata": {},
   "outputs": [
    {
     "data": {
      "text/plain": [
       "1    2169\n",
       "2    1383\n",
       "3    1261\n",
       "4     968\n",
       "Name: BuildingType, dtype: int64"
      ]
     },
     "execution_count": 122,
     "metadata": {},
     "output_type": "execute_result"
    }
   ],
   "source": [
    "df['BuildingType'].value_counts()"
   ]
  },
  {
   "cell_type": "code",
   "execution_count": 123,
   "metadata": {},
   "outputs": [],
   "source": [
    "asd = df['Floor'].str.split(' ', expand = True)\n",
    "df['Floor'] = asd[0]\n",
    "df['CountOfFloor'] = asd[2]"
   ]
  },
  {
   "cell_type": "code",
   "execution_count": 124,
   "metadata": {},
   "outputs": [],
   "source": [
    "df['Floor'] = df['Floor'].astype('float64')\n",
    "df['CountOfFloor'] = df['CountOfFloor'].astype('float64')"
   ]
  },
  {
   "cell_type": "code",
   "execution_count": 125,
   "metadata": {},
   "outputs": [
    {
     "name": "stdout",
     "output_type": "stream",
     "text": [
      "Mean for Floor 4.823353293413174\n",
      "Mean for CountOfFloor 7.954413367235743\n"
     ]
    }
   ],
   "source": [
    "print('Mean for Floor' , df['Floor'].mean())\n",
    "print('Mean for CountOfFloor' , df['CountOfFloor'].mean())"
   ]
  },
  {
   "cell_type": "code",
   "execution_count": 126,
   "metadata": {},
   "outputs": [],
   "source": [
    "df['Floor'].fillna(value = 5 , inplace = True)\n",
    "df['CountOfFloor'].fillna(value = 8 , inplace = True)"
   ]
  },
  {
   "cell_type": "code",
   "execution_count": 127,
   "metadata": {},
   "outputs": [],
   "source": [
    "df['Floor'] = df['Floor'].astype('int64')\n",
    "df['CountOfFloor'] = df['CountOfFloor'].astype('int64')"
   ]
  },
  {
   "cell_type": "code",
   "execution_count": 128,
   "metadata": {},
   "outputs": [
    {
     "data": {
      "text/html": [
       "<div>\n",
       "<style scoped>\n",
       "    .dataframe tbody tr th:only-of-type {\n",
       "        vertical-align: middle;\n",
       "    }\n",
       "\n",
       "    .dataframe tbody tr th {\n",
       "        vertical-align: top;\n",
       "    }\n",
       "\n",
       "    .dataframe thead th {\n",
       "        text-align: right;\n",
       "    }\n",
       "</style>\n",
       "<table border=\"1\" class=\"dataframe\">\n",
       "  <thead>\n",
       "    <tr style=\"text-align: right;\">\n",
       "      <th></th>\n",
       "      <th>Unnamed: 0</th>\n",
       "      <th>Price</th>\n",
       "      <th>Rooms</th>\n",
       "      <th>isMortgaged</th>\n",
       "      <th>BuildingType</th>\n",
       "      <th>BuildingYear</th>\n",
       "      <th>Floor</th>\n",
       "      <th>CountOfFloor</th>\n",
       "      <th>Square</th>\n",
       "      <th>PrivDormitory</th>\n",
       "      <th>...</th>\n",
       "      <th>Country</th>\n",
       "      <th>City</th>\n",
       "      <th>District</th>\n",
       "      <th>Street</th>\n",
       "      <th>HouseNum</th>\n",
       "      <th>Latitude</th>\n",
       "      <th>Longitude</th>\n",
       "      <th>OtherInformation</th>\n",
       "      <th>Comment</th>\n",
       "      <th>Date</th>\n",
       "    </tr>\n",
       "  </thead>\n",
       "  <tbody>\n",
       "    <tr>\n",
       "      <th>0</th>\n",
       "      <td>52917991</td>\n",
       "      <td>19000000</td>\n",
       "      <td>2</td>\n",
       "      <td>False</td>\n",
       "      <td>2</td>\n",
       "      <td>2018</td>\n",
       "      <td>4</td>\n",
       "      <td>9</td>\n",
       "      <td>55.0</td>\n",
       "      <td>нет</td>\n",
       "      <td>...</td>\n",
       "      <td>Kazahstan</td>\n",
       "      <td>Nur-Sultan_(Astana)</td>\n",
       "      <td>Esilyskiy_r-n</td>\n",
       "      <td>Ilyyasa_Omarova</td>\n",
       "      <td>23</td>\n",
       "      <td>51.139545</td>\n",
       "      <td>71.369721</td>\n",
       "      <td>Пластиковые окна, неугловая, улучшенная, комна...</td>\n",
       "      <td>NaN</td>\n",
       "      <td>NaN</td>\n",
       "    </tr>\n",
       "    <tr>\n",
       "      <th>1</th>\n",
       "      <td>53112971</td>\n",
       "      <td>27300000</td>\n",
       "      <td>3</td>\n",
       "      <td>False</td>\n",
       "      <td>1</td>\n",
       "      <td>2015</td>\n",
       "      <td>12</td>\n",
       "      <td>14</td>\n",
       "      <td>85.0</td>\n",
       "      <td>нет</td>\n",
       "      <td>...</td>\n",
       "      <td>Kazahstan</td>\n",
       "      <td>Nur-Sultan_(Astana)</td>\n",
       "      <td>Esilyskiy_r-n</td>\n",
       "      <td>prospekt_Mangilik_El</td>\n",
       "      <td>17</td>\n",
       "      <td>51.115090</td>\n",
       "      <td>71.434078</td>\n",
       "      <td>Комнаты изолированы, тихий двор.</td>\n",
       "      <td>NaN</td>\n",
       "      <td>NaN</td>\n",
       "    </tr>\n",
       "    <tr>\n",
       "      <th>2</th>\n",
       "      <td>53265724</td>\n",
       "      <td>17350000</td>\n",
       "      <td>2</td>\n",
       "      <td>False</td>\n",
       "      <td>4</td>\n",
       "      <td>2015</td>\n",
       "      <td>19</td>\n",
       "      <td>24</td>\n",
       "      <td>73.0</td>\n",
       "      <td>нет</td>\n",
       "      <td>...</td>\n",
       "      <td>Kazahstan</td>\n",
       "      <td>Nur-Sultan_(Astana)</td>\n",
       "      <td>Almatinskiy_r-n</td>\n",
       "      <td>Ahmeta_Baytursynova</td>\n",
       "      <td>17</td>\n",
       "      <td>51.123659</td>\n",
       "      <td>71.475127</td>\n",
       "      <td>Кухня-студия, встроенная кухня, тихий двор.</td>\n",
       "      <td>NaN</td>\n",
       "      <td>NaN</td>\n",
       "    </tr>\n",
       "    <tr>\n",
       "      <th>3</th>\n",
       "      <td>52527406</td>\n",
       "      <td>145000000</td>\n",
       "      <td>4</td>\n",
       "      <td>False</td>\n",
       "      <td>4</td>\n",
       "      <td>2014</td>\n",
       "      <td>6</td>\n",
       "      <td>19</td>\n",
       "      <td>180.0</td>\n",
       "      <td>NaN</td>\n",
       "      <td>...</td>\n",
       "      <td>Kazahstan</td>\n",
       "      <td>Almaty</td>\n",
       "      <td>Medeuskiy_r-n</td>\n",
       "      <td>ALY-FARABI</td>\n",
       "      <td>21</td>\n",
       "      <td>43.228729</td>\n",
       "      <td>76.941899</td>\n",
       "      <td>Пластиковые окна, улучшенная, кладовка, тихий ...</td>\n",
       "      <td>NaN</td>\n",
       "      <td>NaN</td>\n",
       "    </tr>\n",
       "  </tbody>\n",
       "</table>\n",
       "<p>4 rows × 34 columns</p>\n",
       "</div>"
      ],
      "text/plain": [
       "  Unnamed: 0      Price  Rooms  isMortgaged  BuildingType  BuildingYear  \\\n",
       "0   52917991   19000000      2        False             2          2018   \n",
       "1   53112971   27300000      3        False             1          2015   \n",
       "2   53265724   17350000      2        False             4          2015   \n",
       "3   52527406  145000000      4        False             4          2014   \n",
       "\n",
       "   Floor  CountOfFloor  Square PrivDormitory  ...    Country  \\\n",
       "0      4             9    55.0           нет  ...  Kazahstan   \n",
       "1     12            14    85.0           нет  ...  Kazahstan   \n",
       "2     19            24    73.0           нет  ...  Kazahstan   \n",
       "3      6            19   180.0           NaN  ...  Kazahstan   \n",
       "\n",
       "                  City         District                Street HouseNum  \\\n",
       "0  Nur-Sultan_(Astana)    Esilyskiy_r-n       Ilyyasa_Omarova       23   \n",
       "1  Nur-Sultan_(Astana)    Esilyskiy_r-n  prospekt_Mangilik_El       17   \n",
       "2  Nur-Sultan_(Astana)  Almatinskiy_r-n   Ahmeta_Baytursynova       17   \n",
       "3               Almaty    Medeuskiy_r-n            ALY-FARABI       21   \n",
       "\n",
       "    Latitude  Longitude                                   OtherInformation  \\\n",
       "0  51.139545  71.369721  Пластиковые окна, неугловая, улучшенная, комна...   \n",
       "1  51.115090  71.434078                   Комнаты изолированы, тихий двор.   \n",
       "2  51.123659  71.475127        Кухня-студия, встроенная кухня, тихий двор.   \n",
       "3  43.228729  76.941899  Пластиковые окна, улучшенная, кладовка, тихий ...   \n",
       "\n",
       "  Comment Date  \n",
       "0     NaN  NaN  \n",
       "1     NaN  NaN  \n",
       "2     NaN  NaN  \n",
       "3     NaN  NaN  \n",
       "\n",
       "[4 rows x 34 columns]"
      ]
     },
     "execution_count": 128,
     "metadata": {},
     "output_type": "execute_result"
    }
   ],
   "source": [
    "df.head(4)"
   ]
  },
  {
   "cell_type": "code",
   "execution_count": 129,
   "metadata": {},
   "outputs": [],
   "source": [
    "df['ID'] = df['Unnamed: 0']\n",
    "df.drop(['Unnamed: 0'],axis=1,inplace=True)"
   ]
  },
  {
   "cell_type": "code",
   "execution_count": 130,
   "metadata": {},
   "outputs": [
    {
     "name": "stdout",
     "output_type": "stream",
     "text": [
      "<class 'pandas.core.frame.DataFrame'>\n",
      "RangeIndex: 5781 entries, 0 to 5780\n",
      "Data columns (total 34 columns):\n",
      "Price               5781 non-null int64\n",
      "Rooms               5781 non-null int64\n",
      "isMortgaged         5781 non-null bool\n",
      "BuildingType        5781 non-null int64\n",
      "BuildingYear        5781 non-null int64\n",
      "Floor               5781 non-null int64\n",
      "CountOfFloor        5781 non-null int64\n",
      "Square              5757 non-null float64\n",
      "PrivDormitory       4165 non-null object\n",
      "Renovation          5045 non-null object\n",
      "TelephoneType       3418 non-null object\n",
      "InternetType        3090 non-null object\n",
      "BathroomType        4749 non-null object\n",
      "Balcony             4141 non-null object\n",
      "BalconyGlazed       3429 non-null object\n",
      "DoorType            4497 non-null object\n",
      "Parking             2984 non-null object\n",
      "Furniture           4101 non-null object\n",
      "FloorType           3929 non-null object\n",
      "CeilingHeight       3843 non-null object\n",
      "Security            3882 non-null object\n",
      "MapComplex          1602 non-null object\n",
      "HasChange           955 non-null object\n",
      "Country             5781 non-null object\n",
      "City                5764 non-null object\n",
      "District            3456 non-null object\n",
      "Street              5755 non-null object\n",
      "HouseNum            5447 non-null object\n",
      "Latitude            5768 non-null float64\n",
      "Longitude           5768 non-null float64\n",
      "OtherInformation    3881 non-null object\n",
      "Comment             0 non-null float64\n",
      "Date                0 non-null float64\n",
      "ID                  5781 non-null object\n",
      "dtypes: bool(1), float64(5), int64(6), object(22)\n",
      "memory usage: 1.5+ MB\n"
     ]
    }
   ],
   "source": [
    "df.info()"
   ]
  },
  {
   "cell_type": "code",
   "execution_count": 131,
   "metadata": {},
   "outputs": [
    {
     "data": {
      "text/plain": [
       "нет    4039\n",
       "да      126\n",
       "Name: PrivDormitory, dtype: int64"
      ]
     },
     "execution_count": 131,
     "metadata": {},
     "output_type": "execute_result"
    }
   ],
   "source": [
    "df['PrivDormitory'].value_counts()"
   ]
  },
  {
   "cell_type": "code",
   "execution_count": 132,
   "metadata": {},
   "outputs": [
    {
     "data": {
      "text/html": [
       "<div>\n",
       "<style scoped>\n",
       "    .dataframe tbody tr th:only-of-type {\n",
       "        vertical-align: middle;\n",
       "    }\n",
       "\n",
       "    .dataframe tbody tr th {\n",
       "        vertical-align: top;\n",
       "    }\n",
       "\n",
       "    .dataframe thead th {\n",
       "        text-align: right;\n",
       "    }\n",
       "</style>\n",
       "<table border=\"1\" class=\"dataframe\">\n",
       "  <thead>\n",
       "    <tr style=\"text-align: right;\">\n",
       "      <th></th>\n",
       "      <th>Price</th>\n",
       "      <th>Rooms</th>\n",
       "      <th>isMortgaged</th>\n",
       "      <th>BuildingType</th>\n",
       "      <th>BuildingYear</th>\n",
       "      <th>Floor</th>\n",
       "      <th>CountOfFloor</th>\n",
       "      <th>Square</th>\n",
       "      <th>PrivDormitory</th>\n",
       "      <th>Renovation</th>\n",
       "      <th>...</th>\n",
       "      <th>City</th>\n",
       "      <th>District</th>\n",
       "      <th>Street</th>\n",
       "      <th>HouseNum</th>\n",
       "      <th>Latitude</th>\n",
       "      <th>Longitude</th>\n",
       "      <th>OtherInformation</th>\n",
       "      <th>Comment</th>\n",
       "      <th>Date</th>\n",
       "      <th>ID</th>\n",
       "    </tr>\n",
       "  </thead>\n",
       "  <tbody>\n",
       "    <tr>\n",
       "      <th>0</th>\n",
       "      <td>19000000</td>\n",
       "      <td>2</td>\n",
       "      <td>False</td>\n",
       "      <td>2</td>\n",
       "      <td>2018</td>\n",
       "      <td>4</td>\n",
       "      <td>9</td>\n",
       "      <td>55.0</td>\n",
       "      <td>False</td>\n",
       "      <td>евроремонт</td>\n",
       "      <td>...</td>\n",
       "      <td>Nur-Sultan_(Astana)</td>\n",
       "      <td>Esilyskiy_r-n</td>\n",
       "      <td>Ilyyasa_Omarova</td>\n",
       "      <td>23</td>\n",
       "      <td>51.139545</td>\n",
       "      <td>71.369721</td>\n",
       "      <td>Пластиковые окна, неугловая, улучшенная, комна...</td>\n",
       "      <td>NaN</td>\n",
       "      <td>NaN</td>\n",
       "      <td>52917991</td>\n",
       "    </tr>\n",
       "    <tr>\n",
       "      <th>1</th>\n",
       "      <td>27300000</td>\n",
       "      <td>3</td>\n",
       "      <td>False</td>\n",
       "      <td>1</td>\n",
       "      <td>2015</td>\n",
       "      <td>12</td>\n",
       "      <td>14</td>\n",
       "      <td>85.0</td>\n",
       "      <td>False</td>\n",
       "      <td>евроремонт</td>\n",
       "      <td>...</td>\n",
       "      <td>Nur-Sultan_(Astana)</td>\n",
       "      <td>Esilyskiy_r-n</td>\n",
       "      <td>prospekt_Mangilik_El</td>\n",
       "      <td>17</td>\n",
       "      <td>51.115090</td>\n",
       "      <td>71.434078</td>\n",
       "      <td>Комнаты изолированы, тихий двор.</td>\n",
       "      <td>NaN</td>\n",
       "      <td>NaN</td>\n",
       "      <td>53112971</td>\n",
       "    </tr>\n",
       "    <tr>\n",
       "      <th>2</th>\n",
       "      <td>17350000</td>\n",
       "      <td>2</td>\n",
       "      <td>False</td>\n",
       "      <td>4</td>\n",
       "      <td>2015</td>\n",
       "      <td>19</td>\n",
       "      <td>24</td>\n",
       "      <td>73.0</td>\n",
       "      <td>False</td>\n",
       "      <td>хорошее</td>\n",
       "      <td>...</td>\n",
       "      <td>Nur-Sultan_(Astana)</td>\n",
       "      <td>Almatinskiy_r-n</td>\n",
       "      <td>Ahmeta_Baytursynova</td>\n",
       "      <td>17</td>\n",
       "      <td>51.123659</td>\n",
       "      <td>71.475127</td>\n",
       "      <td>Кухня-студия, встроенная кухня, тихий двор.</td>\n",
       "      <td>NaN</td>\n",
       "      <td>NaN</td>\n",
       "      <td>53265724</td>\n",
       "    </tr>\n",
       "    <tr>\n",
       "      <th>3</th>\n",
       "      <td>145000000</td>\n",
       "      <td>4</td>\n",
       "      <td>False</td>\n",
       "      <td>4</td>\n",
       "      <td>2014</td>\n",
       "      <td>6</td>\n",
       "      <td>19</td>\n",
       "      <td>180.0</td>\n",
       "      <td>True</td>\n",
       "      <td>евроремонт</td>\n",
       "      <td>...</td>\n",
       "      <td>Almaty</td>\n",
       "      <td>Medeuskiy_r-n</td>\n",
       "      <td>ALY-FARABI</td>\n",
       "      <td>21</td>\n",
       "      <td>43.228729</td>\n",
       "      <td>76.941899</td>\n",
       "      <td>Пластиковые окна, улучшенная, кладовка, тихий ...</td>\n",
       "      <td>NaN</td>\n",
       "      <td>NaN</td>\n",
       "      <td>52527406</td>\n",
       "    </tr>\n",
       "    <tr>\n",
       "      <th>4</th>\n",
       "      <td>18400000</td>\n",
       "      <td>1</td>\n",
       "      <td>False</td>\n",
       "      <td>2</td>\n",
       "      <td>2015</td>\n",
       "      <td>4</td>\n",
       "      <td>14</td>\n",
       "      <td>45.0</td>\n",
       "      <td>False</td>\n",
       "      <td>евроремонт</td>\n",
       "      <td>...</td>\n",
       "      <td>Nur-Sultan_(Astana)</td>\n",
       "      <td>Esilyskiy_r-n</td>\n",
       "      <td>Sarayshyk</td>\n",
       "      <td>7</td>\n",
       "      <td>51.135119</td>\n",
       "      <td>71.427339</td>\n",
       "      <td>Пластиковые окна, неугловая, улучшенная, комна...</td>\n",
       "      <td>NaN</td>\n",
       "      <td>NaN</td>\n",
       "      <td>53091362</td>\n",
       "    </tr>\n",
       "  </tbody>\n",
       "</table>\n",
       "<p>5 rows × 34 columns</p>\n",
       "</div>"
      ],
      "text/plain": [
       "       Price  Rooms  isMortgaged  BuildingType  BuildingYear  Floor  \\\n",
       "0   19000000      2        False             2          2018      4   \n",
       "1   27300000      3        False             1          2015     12   \n",
       "2   17350000      2        False             4          2015     19   \n",
       "3  145000000      4        False             4          2014      6   \n",
       "4   18400000      1        False             2          2015      4   \n",
       "\n",
       "   CountOfFloor  Square  PrivDormitory  Renovation  ...                 City  \\\n",
       "0             9    55.0          False  евроремонт  ...  Nur-Sultan_(Astana)   \n",
       "1            14    85.0          False  евроремонт  ...  Nur-Sultan_(Astana)   \n",
       "2            24    73.0          False     хорошее  ...  Nur-Sultan_(Astana)   \n",
       "3            19   180.0           True  евроремонт  ...               Almaty   \n",
       "4            14    45.0          False  евроремонт  ...  Nur-Sultan_(Astana)   \n",
       "\n",
       "          District                Street HouseNum   Latitude  Longitude  \\\n",
       "0    Esilyskiy_r-n       Ilyyasa_Omarova       23  51.139545  71.369721   \n",
       "1    Esilyskiy_r-n  prospekt_Mangilik_El       17  51.115090  71.434078   \n",
       "2  Almatinskiy_r-n   Ahmeta_Baytursynova       17  51.123659  71.475127   \n",
       "3    Medeuskiy_r-n            ALY-FARABI       21  43.228729  76.941899   \n",
       "4    Esilyskiy_r-n             Sarayshyk        7  51.135119  71.427339   \n",
       "\n",
       "                                    OtherInformation Comment Date        ID  \n",
       "0  Пластиковые окна, неугловая, улучшенная, комна...     NaN  NaN  52917991  \n",
       "1                   Комнаты изолированы, тихий двор.     NaN  NaN  53112971  \n",
       "2        Кухня-студия, встроенная кухня, тихий двор.     NaN  NaN  53265724  \n",
       "3  Пластиковые окна, улучшенная, кладовка, тихий ...     NaN  NaN  52527406  \n",
       "4  Пластиковые окна, неугловая, улучшенная, комна...     NaN  NaN  53091362  \n",
       "\n",
       "[5 rows x 34 columns]"
      ]
     },
     "execution_count": 132,
     "metadata": {},
     "output_type": "execute_result"
    }
   ],
   "source": [
    "d = {'нет' : False, 'да' : True}\n",
    "df['PrivDormitory'] = df['PrivDormitory'].map(d).astype('bool')\n",
    "df.head()"
   ]
  },
  {
   "cell_type": "code",
   "execution_count": 133,
   "metadata": {},
   "outputs": [
    {
     "data": {
      "text/plain": [
       "хорошее                 2100\n",
       "евроремонт              1886\n",
       "среднее                  477\n",
       "черновая отделка         348\n",
       "требует ремонта          174\n",
       "свободная планировка      60\n",
       "Name: Renovation, dtype: int64"
      ]
     },
     "execution_count": 133,
     "metadata": {},
     "output_type": "execute_result"
    }
   ],
   "source": [
    "df['Renovation'].value_counts()"
   ]
  },
  {
   "cell_type": "code",
   "execution_count": 134,
   "metadata": {},
   "outputs": [
    {
     "data": {
      "text/plain": [
       "1.0    2100\n",
       "2.0    1886\n",
       "3.0     477\n",
       "4.0     348\n",
       "5.0     174\n",
       "6.0      60\n",
       "Name: Renovation, dtype: int64"
      ]
     },
     "execution_count": 134,
     "metadata": {},
     "output_type": "execute_result"
    }
   ],
   "source": [
    "df['Renovation'].value_counts()\n",
    "#хорошее 1 , еврорем 2,среднее 3, черновая отделка 4, требует ремонта 5,свободная планировка 6\n",
    "\n",
    "d = {'хорошее' : 1, 'евроремонт' : 2, 'среднее' : 3, 'черновая отделка' : 4 ,'требует ремонта':5,\n",
    "     'свободная планировка' : 6}\n",
    "df['Renovation'] = df['Renovation'].map(d)\n",
    "df['Renovation'].value_counts()"
   ]
  },
  {
   "cell_type": "code",
   "execution_count": 135,
   "metadata": {},
   "outputs": [],
   "source": [
    "df['Renovation'].fillna(value = 5 , inplace = True)\n",
    "df['Renovation'] = df['Renovation'].astype('int64')"
   ]
  },
  {
   "cell_type": "code",
   "execution_count": 136,
   "metadata": {},
   "outputs": [
    {
     "name": "stdout",
     "output_type": "stream",
     "text": [
      "отдельный                       2172\n",
      "есть возможность подключения     994\n",
      "нет                              247\n",
      "блокиратор                         5\n",
      "Name: TelephoneType, dtype: int64\n"
     ]
    }
   ],
   "source": [
    "print(df['TelephoneType'].value_counts())"
   ]
  },
  {
   "cell_type": "code",
   "execution_count": 137,
   "metadata": {},
   "outputs": [
    {
     "data": {
      "text/plain": [
       "1.0    2172\n",
       "2.0     994\n",
       "3.0     247\n",
       "4.0       5\n",
       "Name: TelephoneType, dtype: int64"
      ]
     },
     "execution_count": 137,
     "metadata": {},
     "output_type": "execute_result"
    }
   ],
   "source": [
    "d = {'отдельный' : 1, 'есть возможность подключения' : 2, 'нет' : 3 ,'блокиратор':4}\n",
    "df['TelephoneType'] = df['TelephoneType'].map(d)\n",
    "df['TelephoneType'].value_counts()"
   ]
  },
  {
   "cell_type": "code",
   "execution_count": 138,
   "metadata": {},
   "outputs": [],
   "source": [
    "df['TelephoneType'].fillna(value = 3, inplace = True)"
   ]
  },
  {
   "cell_type": "code",
   "execution_count": 139,
   "metadata": {},
   "outputs": [],
   "source": [
    "df['TelephoneType'] = df['TelephoneType'].astype('int64')"
   ]
  },
  {
   "cell_type": "code",
   "execution_count": 140,
   "metadata": {},
   "outputs": [
    {
     "data": {
      "text/plain": [
       "ADSL               1084\n",
       "оптика              811\n",
       "проводной           776\n",
       "через TV кабель     419\n",
       "Name: InternetType, dtype: int64"
      ]
     },
     "execution_count": 140,
     "metadata": {},
     "output_type": "execute_result"
    }
   ],
   "source": [
    "df['InternetType'].value_counts()"
   ]
  },
  {
   "cell_type": "code",
   "execution_count": 141,
   "metadata": {},
   "outputs": [
    {
     "data": {
      "text/plain": [
       "1.0    1084\n",
       "2.0     811\n",
       "3.0     776\n",
       "4.0     419\n",
       "Name: InternetType, dtype: int64"
      ]
     },
     "execution_count": 141,
     "metadata": {},
     "output_type": "execute_result"
    }
   ],
   "source": [
    "d = {'ADSL' : 1, 'оптика' : 2, 'проводной' : 3,'через TV кабель':4}\n",
    "df['InternetType'] = df['InternetType'].map(d)\n",
    "df['InternetType'].value_counts()"
   ]
  },
  {
   "cell_type": "code",
   "execution_count": 142,
   "metadata": {},
   "outputs": [],
   "source": [
    "df['InternetType'].fillna(value = 1, inplace = True)"
   ]
  },
  {
   "cell_type": "code",
   "execution_count": 143,
   "metadata": {},
   "outputs": [],
   "source": [
    "df['InternetType'] = df['InternetType'].astype('int64')"
   ]
  },
  {
   "cell_type": "code",
   "execution_count": 144,
   "metadata": {
    "scrolled": true
   },
   "outputs": [
    {
     "data": {
      "text/plain": [
       "совмещенный      2047\n",
       "раздельный       1926\n",
       "2 с/у и более     772\n",
       "нет                 4\n",
       "Name: BathroomType, dtype: int64"
      ]
     },
     "execution_count": 144,
     "metadata": {},
     "output_type": "execute_result"
    }
   ],
   "source": [
    "df['BathroomType'].value_counts()"
   ]
  },
  {
   "cell_type": "code",
   "execution_count": 145,
   "metadata": {},
   "outputs": [
    {
     "data": {
      "text/plain": [
       "1.0    2047\n",
       "2.0    1926\n",
       "3.0     772\n",
       "4.0       4\n",
       "Name: BathroomType, dtype: int64"
      ]
     },
     "execution_count": 145,
     "metadata": {},
     "output_type": "execute_result"
    }
   ],
   "source": [
    "d = {'совмещенный' : 1, 'раздельный' : 2, '2 с/у и более' : 3 ,'нет':4}\n",
    "df['BathroomType'] = df['BathroomType'].map(d)\n",
    "df['BathroomType'].value_counts()"
   ]
  },
  {
   "cell_type": "code",
   "execution_count": 146,
   "metadata": {},
   "outputs": [],
   "source": [
    "df['BathroomType'].fillna(value = 4, inplace = True)\n",
    "df['BathroomType'] = df['BathroomType'].astype('int64')"
   ]
  },
  {
   "cell_type": "code",
   "execution_count": 147,
   "metadata": {},
   "outputs": [
    {
     "data": {
      "text/plain": [
       "балкон                           1833\n",
       "лоджия                           1278\n",
       "несколько балконов или лоджий     578\n",
       "балкон и лоджия                   452\n",
       "Name: Balcony, dtype: int64"
      ]
     },
     "execution_count": 147,
     "metadata": {},
     "output_type": "execute_result"
    }
   ],
   "source": [
    "df['Balcony'].value_counts()"
   ]
  },
  {
   "cell_type": "code",
   "execution_count": 148,
   "metadata": {},
   "outputs": [
    {
     "data": {
      "text/plain": [
       "1.0    1833\n",
       "2.0    1278\n",
       "3.0     578\n",
       "4.0     452\n",
       "Name: Balcony, dtype: int64"
      ]
     },
     "execution_count": 148,
     "metadata": {},
     "output_type": "execute_result"
    }
   ],
   "source": [
    "d = {'балкон' : 1, 'лоджия' : 2, 'несколько балконов или лоджий' : 3 ,'балкон и лоджия':4}\n",
    "df['Balcony'] = df['Balcony'].map(d)\n",
    "df['Balcony'].value_counts()"
   ]
  },
  {
   "cell_type": "code",
   "execution_count": 149,
   "metadata": {},
   "outputs": [],
   "source": [
    "df['Balcony'].fillna(value = 1, inplace = True)\n",
    "df['Balcony'] = df['Balcony'].astype('int64')"
   ]
  },
  {
   "cell_type": "code",
   "execution_count": 150,
   "metadata": {},
   "outputs": [
    {
     "name": "stdout",
     "output_type": "stream",
     "text": [
      "<class 'pandas.core.frame.DataFrame'>\n",
      "RangeIndex: 5781 entries, 0 to 5780\n",
      "Data columns (total 34 columns):\n",
      "Price               5781 non-null int64\n",
      "Rooms               5781 non-null int64\n",
      "isMortgaged         5781 non-null bool\n",
      "BuildingType        5781 non-null int64\n",
      "BuildingYear        5781 non-null int64\n",
      "Floor               5781 non-null int64\n",
      "CountOfFloor        5781 non-null int64\n",
      "Square              5757 non-null float64\n",
      "PrivDormitory       5781 non-null bool\n",
      "Renovation          5781 non-null int64\n",
      "TelephoneType       5781 non-null int64\n",
      "InternetType        5781 non-null int64\n",
      "BathroomType        5781 non-null int64\n",
      "Balcony             5781 non-null int64\n",
      "BalconyGlazed       3429 non-null object\n",
      "DoorType            4497 non-null object\n",
      "Parking             2984 non-null object\n",
      "Furniture           4101 non-null object\n",
      "FloorType           3929 non-null object\n",
      "CeilingHeight       3843 non-null object\n",
      "Security            3882 non-null object\n",
      "MapComplex          1602 non-null object\n",
      "HasChange           955 non-null object\n",
      "Country             5781 non-null object\n",
      "City                5764 non-null object\n",
      "District            3456 non-null object\n",
      "Street              5755 non-null object\n",
      "HouseNum            5447 non-null object\n",
      "Latitude            5768 non-null float64\n",
      "Longitude           5768 non-null float64\n",
      "OtherInformation    3881 non-null object\n",
      "Comment             0 non-null float64\n",
      "Date                0 non-null float64\n",
      "ID                  5781 non-null object\n",
      "dtypes: bool(2), float64(5), int64(11), object(16)\n",
      "memory usage: 1.4+ MB\n"
     ]
    }
   ],
   "source": [
    "df.info()"
   ]
  },
  {
   "cell_type": "code",
   "execution_count": 151,
   "metadata": {},
   "outputs": [
    {
     "data": {
      "text/plain": [
       "да    3429\n",
       "Name: BalconyGlazed, dtype: int64"
      ]
     },
     "execution_count": 151,
     "metadata": {},
     "output_type": "execute_result"
    }
   ],
   "source": [
    "df['BalconyGlazed'].value_counts()"
   ]
  },
  {
   "cell_type": "code",
   "execution_count": 152,
   "metadata": {},
   "outputs": [
    {
     "data": {
      "text/plain": [
       "1.0    3429\n",
       "Name: BalconyGlazed, dtype: int64"
      ]
     },
     "execution_count": 152,
     "metadata": {},
     "output_type": "execute_result"
    }
   ],
   "source": [
    "d = {'да' : 1}\n",
    "df['BalconyGlazed'] = df['BalconyGlazed'].map(d)\n",
    "df['BalconyGlazed'].value_counts()"
   ]
  },
  {
   "cell_type": "code",
   "execution_count": 153,
   "metadata": {},
   "outputs": [],
   "source": [
    "df['BalconyGlazed'].fillna(value = 0, inplace = True)\n",
    "df['BalconyGlazed'] = df['BalconyGlazed'].astype('int64')"
   ]
  },
  {
   "cell_type": "code",
   "execution_count": 154,
   "metadata": {},
   "outputs": [
    {
     "name": "stdout",
     "output_type": "stream",
     "text": [
      "<class 'pandas.core.frame.DataFrame'>\n",
      "RangeIndex: 5781 entries, 0 to 5780\n",
      "Data columns (total 34 columns):\n",
      "Price               5781 non-null int64\n",
      "Rooms               5781 non-null int64\n",
      "isMortgaged         5781 non-null bool\n",
      "BuildingType        5781 non-null int64\n",
      "BuildingYear        5781 non-null int64\n",
      "Floor               5781 non-null int64\n",
      "CountOfFloor        5781 non-null int64\n",
      "Square              5757 non-null float64\n",
      "PrivDormitory       5781 non-null bool\n",
      "Renovation          5781 non-null int64\n",
      "TelephoneType       5781 non-null int64\n",
      "InternetType        5781 non-null int64\n",
      "BathroomType        5781 non-null int64\n",
      "Balcony             5781 non-null int64\n",
      "BalconyGlazed       5781 non-null int64\n",
      "DoorType            4497 non-null object\n",
      "Parking             2984 non-null object\n",
      "Furniture           4101 non-null object\n",
      "FloorType           3929 non-null object\n",
      "CeilingHeight       3843 non-null object\n",
      "Security            3882 non-null object\n",
      "MapComplex          1602 non-null object\n",
      "HasChange           955 non-null object\n",
      "Country             5781 non-null object\n",
      "City                5764 non-null object\n",
      "District            3456 non-null object\n",
      "Street              5755 non-null object\n",
      "HouseNum            5447 non-null object\n",
      "Latitude            5768 non-null float64\n",
      "Longitude           5768 non-null float64\n",
      "OtherInformation    3881 non-null object\n",
      "Comment             0 non-null float64\n",
      "Date                0 non-null float64\n",
      "ID                  5781 non-null object\n",
      "dtypes: bool(2), float64(5), int64(12), object(15)\n",
      "memory usage: 1.4+ MB\n"
     ]
    }
   ],
   "source": [
    "df.info()"
   ]
  },
  {
   "cell_type": "code",
   "execution_count": 155,
   "metadata": {},
   "outputs": [
    {
     "data": {
      "text/plain": [
       "металлическая    3615\n",
       "бронированная     724\n",
       "деревянная        158\n",
       "Name: DoorType, dtype: int64"
      ]
     },
     "execution_count": 155,
     "metadata": {},
     "output_type": "execute_result"
    }
   ],
   "source": [
    "df['DoorType'].value_counts()"
   ]
  },
  {
   "cell_type": "code",
   "execution_count": 156,
   "metadata": {},
   "outputs": [
    {
     "data": {
      "text/plain": [
       "1.0    3615\n",
       "2.0     724\n",
       "3.0     158\n",
       "Name: DoorType, dtype: int64"
      ]
     },
     "execution_count": 156,
     "metadata": {},
     "output_type": "execute_result"
    }
   ],
   "source": [
    "d = {'металлическая' : 1, 'бронированная' : 2, 'деревянная' : 3}\n",
    "df['DoorType'] = df['DoorType'].map(d)\n",
    "df['DoorType'].value_counts()"
   ]
  },
  {
   "cell_type": "code",
   "execution_count": 157,
   "metadata": {},
   "outputs": [],
   "source": [
    "df['DoorType'].fillna(value = 1, inplace = True)\n",
    "df['DoorType'] = df['DoorType'].astype('int64')"
   ]
  },
  {
   "cell_type": "code",
   "execution_count": 158,
   "metadata": {},
   "outputs": [
    {
     "data": {
      "text/plain": [
       "рядом охраняемая стоянка    1631\n",
       "паркинг                     1252\n",
       "гараж                        101\n",
       "Name: Parking, dtype: int64"
      ]
     },
     "execution_count": 158,
     "metadata": {},
     "output_type": "execute_result"
    }
   ],
   "source": [
    "df['Parking'].value_counts()"
   ]
  },
  {
   "cell_type": "code",
   "execution_count": 159,
   "metadata": {},
   "outputs": [],
   "source": [
    "d = {'рядом охраняемая стоянка' : 1, 'паркинг' : 2, 'гараж' : 3}\n",
    "df['Parking'] = df['Parking'].map(d)\n",
    "df['Parking'].value_counts()\n",
    "df['Parking'].fillna(value = 1, inplace = True)\n",
    "df['Parking'] = df['DoorType'].astype('int64')"
   ]
  },
  {
   "cell_type": "code",
   "execution_count": 160,
   "metadata": {},
   "outputs": [
    {
     "data": {
      "text/plain": [
       "частично меблирована     1933\n",
       "полностью меблирована    1558\n",
       "пустая                    610\n",
       "Name: Furniture, dtype: int64"
      ]
     },
     "execution_count": 160,
     "metadata": {},
     "output_type": "execute_result"
    }
   ],
   "source": [
    "df['Furniture'].value_counts()"
   ]
  },
  {
   "cell_type": "code",
   "execution_count": 161,
   "metadata": {},
   "outputs": [
    {
     "data": {
      "text/plain": [
       "3    2290\n",
       "1    1933\n",
       "2    1558\n",
       "Name: Furniture, dtype: int64"
      ]
     },
     "execution_count": 161,
     "metadata": {},
     "output_type": "execute_result"
    }
   ],
   "source": [
    "d = {'частично меблирована' : 1, 'полностью меблирована' : 2, 'пустая' : 3}\n",
    "df['Furniture'] = df['Furniture'].map(d)\n",
    "df['Furniture'].fillna(value = 3, inplace = True)\n",
    "df['Furniture'] = df['Furniture'].astype('int64')\n",
    "df['Furniture'].value_counts()"
   ]
  },
  {
   "cell_type": "code",
   "execution_count": 162,
   "metadata": {},
   "outputs": [
    {
     "data": {
      "text/plain": [
       "ламинат      1742\n",
       "линолеум     1674\n",
       "паркет        329\n",
       "дерево        138\n",
       "плитка         30\n",
       "ковролан       10\n",
       "пробковое       6\n",
       "Name: FloorType, dtype: int64"
      ]
     },
     "execution_count": 162,
     "metadata": {},
     "output_type": "execute_result"
    }
   ],
   "source": [
    "df['FloorType'].value_counts()"
   ]
  },
  {
   "cell_type": "code",
   "execution_count": 163,
   "metadata": {},
   "outputs": [
    {
     "data": {
      "text/plain": [
       "2    3526\n",
       "1    1742\n",
       "3     329\n",
       "4     138\n",
       "5      30\n",
       "6      10\n",
       "7       6\n",
       "Name: FloorType, dtype: int64"
      ]
     },
     "execution_count": 163,
     "metadata": {},
     "output_type": "execute_result"
    }
   ],
   "source": [
    "d = {'ламинат' : 1, 'линолеум' : 2, 'паркет' : 3,'дерево':4,'плитка':5,'ковролан':6,'пробковое':7}\n",
    "df['FloorType'] = df['FloorType'].map(d)\n",
    "df['FloorType'].fillna(value = 2, inplace = True)\n",
    "df['FloorType'] = df['FloorType'].astype('int64')\n",
    "df['FloorType'].value_counts()"
   ]
  },
  {
   "cell_type": "code",
   "execution_count": 164,
   "metadata": {},
   "outputs": [],
   "source": [
    "# df['CeilingHeight'] = df['CeilingHeight'].astype('float64')\n",
    "asd = df['CeilingHeight'].str.split(' ', expand = True)\n",
    "df['CeilingHeight'] = asd[0]\n",
    "df['CeilingHeight'] = df['CeilingHeight'].astype('float64')"
   ]
  },
  {
   "cell_type": "code",
   "execution_count": 165,
   "metadata": {},
   "outputs": [],
   "source": [
    "df['CeilingHeight'].mean()\n",
    "df['CeilingHeight'].fillna(value = 3.08 , inplace = True)"
   ]
  },
  {
   "cell_type": "code",
   "execution_count": 166,
   "metadata": {},
   "outputs": [],
   "source": [
    "df.drop(['Security'],axis=1,inplace=True)"
   ]
  },
  {
   "cell_type": "code",
   "execution_count": 167,
   "metadata": {},
   "outputs": [],
   "source": [
    "df.drop(['MapComplex'],axis=1,inplace=True)"
   ]
  },
  {
   "cell_type": "code",
   "execution_count": 168,
   "metadata": {},
   "outputs": [
    {
     "name": "stdout",
     "output_type": "stream",
     "text": [
      "<class 'pandas.core.frame.DataFrame'>\n",
      "RangeIndex: 5781 entries, 0 to 5780\n",
      "Data columns (total 32 columns):\n",
      "Price               5781 non-null int64\n",
      "Rooms               5781 non-null int64\n",
      "isMortgaged         5781 non-null bool\n",
      "BuildingType        5781 non-null int64\n",
      "BuildingYear        5781 non-null int64\n",
      "Floor               5781 non-null int64\n",
      "CountOfFloor        5781 non-null int64\n",
      "Square              5757 non-null float64\n",
      "PrivDormitory       5781 non-null bool\n",
      "Renovation          5781 non-null int64\n",
      "TelephoneType       5781 non-null int64\n",
      "InternetType        5781 non-null int64\n",
      "BathroomType        5781 non-null int64\n",
      "Balcony             5781 non-null int64\n",
      "BalconyGlazed       5781 non-null int64\n",
      "DoorType            5781 non-null int64\n",
      "Parking             5781 non-null int64\n",
      "Furniture           5781 non-null int64\n",
      "FloorType           5781 non-null int64\n",
      "CeilingHeight       5781 non-null float64\n",
      "HasChange           955 non-null object\n",
      "Country             5781 non-null object\n",
      "City                5764 non-null object\n",
      "District            3456 non-null object\n",
      "Street              5755 non-null object\n",
      "HouseNum            5447 non-null object\n",
      "Latitude            5768 non-null float64\n",
      "Longitude           5768 non-null float64\n",
      "OtherInformation    3881 non-null object\n",
      "Comment             0 non-null float64\n",
      "Date                0 non-null float64\n",
      "ID                  5781 non-null object\n",
      "dtypes: bool(2), float64(6), int64(16), object(8)\n",
      "memory usage: 1.3+ MB\n"
     ]
    }
   ],
   "source": [
    "df.info()"
   ]
  },
  {
   "cell_type": "code",
   "execution_count": 169,
   "metadata": {},
   "outputs": [
    {
     "data": {
      "text/plain": [
       "Возможен обмен    834\n",
       "Не интересует     121\n",
       "Name: HasChange, dtype: int64"
      ]
     },
     "execution_count": 169,
     "metadata": {},
     "output_type": "execute_result"
    }
   ],
   "source": [
    "df['HasChange'].value_counts()"
   ]
  },
  {
   "cell_type": "code",
   "execution_count": 170,
   "metadata": {},
   "outputs": [
    {
     "data": {
      "text/plain": [
       "2    4947\n",
       "1     834\n",
       "Name: HasChange, dtype: int64"
      ]
     },
     "execution_count": 170,
     "metadata": {},
     "output_type": "execute_result"
    }
   ],
   "source": [
    "d = {'Возможен обмен' : 1, 'Не интересует' : 2}\n",
    "df['HasChange'] = df['HasChange'].map(d)\n",
    "df['HasChange'].fillna(value = 2, inplace = True)\n",
    "df['HasChange'] = df['HasChange'].astype('int64')\n",
    "df['HasChange'].value_counts()"
   ]
  },
  {
   "cell_type": "code",
   "execution_count": 171,
   "metadata": {},
   "outputs": [],
   "source": [
    "df['Latitude'] = df['Latitude'].astype('float64')\n",
    "df['Latitude'].mean()\n",
    "df['Latitude'].fillna(value = 41.902 , inplace = True)"
   ]
  },
  {
   "cell_type": "code",
   "execution_count": 172,
   "metadata": {},
   "outputs": [],
   "source": [
    "df['Longitude'] = df['Longitude'].astype('float64')\n",
    "df['Longitude'].fillna(value = df['Longitude'].mean() , inplace = True)"
   ]
  },
  {
   "cell_type": "code",
   "execution_count": 173,
   "metadata": {},
   "outputs": [
    {
     "data": {
      "text/html": [
       "<div>\n",
       "<style scoped>\n",
       "    .dataframe tbody tr th:only-of-type {\n",
       "        vertical-align: middle;\n",
       "    }\n",
       "\n",
       "    .dataframe tbody tr th {\n",
       "        vertical-align: top;\n",
       "    }\n",
       "\n",
       "    .dataframe thead th {\n",
       "        text-align: right;\n",
       "    }\n",
       "</style>\n",
       "<table border=\"1\" class=\"dataframe\">\n",
       "  <thead>\n",
       "    <tr style=\"text-align: right;\">\n",
       "      <th></th>\n",
       "      <th>Price</th>\n",
       "      <th>Rooms</th>\n",
       "      <th>isMortgaged</th>\n",
       "      <th>BuildingType</th>\n",
       "      <th>BuildingYear</th>\n",
       "      <th>Floor</th>\n",
       "      <th>CountOfFloor</th>\n",
       "      <th>Square</th>\n",
       "      <th>PrivDormitory</th>\n",
       "      <th>Renovation</th>\n",
       "      <th>...</th>\n",
       "      <th>HasChange</th>\n",
       "      <th>Country</th>\n",
       "      <th>City</th>\n",
       "      <th>District</th>\n",
       "      <th>Street</th>\n",
       "      <th>HouseNum</th>\n",
       "      <th>Latitude</th>\n",
       "      <th>Longitude</th>\n",
       "      <th>OtherInformation</th>\n",
       "      <th>ID</th>\n",
       "    </tr>\n",
       "  </thead>\n",
       "  <tbody>\n",
       "    <tr>\n",
       "      <th>0</th>\n",
       "      <td>19000000</td>\n",
       "      <td>2</td>\n",
       "      <td>False</td>\n",
       "      <td>2</td>\n",
       "      <td>2018</td>\n",
       "      <td>4</td>\n",
       "      <td>9</td>\n",
       "      <td>55.0</td>\n",
       "      <td>False</td>\n",
       "      <td>2</td>\n",
       "      <td>...</td>\n",
       "      <td>2</td>\n",
       "      <td>Kazahstan</td>\n",
       "      <td>Nur-Sultan_(Astana)</td>\n",
       "      <td>Esilyskiy_r-n</td>\n",
       "      <td>Ilyyasa_Omarova</td>\n",
       "      <td>23</td>\n",
       "      <td>51.139545</td>\n",
       "      <td>71.369721</td>\n",
       "      <td>Пластиковые окна, неугловая, улучшенная, комна...</td>\n",
       "      <td>52917991</td>\n",
       "    </tr>\n",
       "    <tr>\n",
       "      <th>1</th>\n",
       "      <td>27300000</td>\n",
       "      <td>3</td>\n",
       "      <td>False</td>\n",
       "      <td>1</td>\n",
       "      <td>2015</td>\n",
       "      <td>12</td>\n",
       "      <td>14</td>\n",
       "      <td>85.0</td>\n",
       "      <td>False</td>\n",
       "      <td>2</td>\n",
       "      <td>...</td>\n",
       "      <td>2</td>\n",
       "      <td>Kazahstan</td>\n",
       "      <td>Nur-Sultan_(Astana)</td>\n",
       "      <td>Esilyskiy_r-n</td>\n",
       "      <td>prospekt_Mangilik_El</td>\n",
       "      <td>17</td>\n",
       "      <td>51.115090</td>\n",
       "      <td>71.434078</td>\n",
       "      <td>Комнаты изолированы, тихий двор.</td>\n",
       "      <td>53112971</td>\n",
       "    </tr>\n",
       "    <tr>\n",
       "      <th>2</th>\n",
       "      <td>17350000</td>\n",
       "      <td>2</td>\n",
       "      <td>False</td>\n",
       "      <td>4</td>\n",
       "      <td>2015</td>\n",
       "      <td>19</td>\n",
       "      <td>24</td>\n",
       "      <td>73.0</td>\n",
       "      <td>False</td>\n",
       "      <td>1</td>\n",
       "      <td>...</td>\n",
       "      <td>2</td>\n",
       "      <td>Kazahstan</td>\n",
       "      <td>Nur-Sultan_(Astana)</td>\n",
       "      <td>Almatinskiy_r-n</td>\n",
       "      <td>Ahmeta_Baytursynova</td>\n",
       "      <td>17</td>\n",
       "      <td>51.123659</td>\n",
       "      <td>71.475127</td>\n",
       "      <td>Кухня-студия, встроенная кухня, тихий двор.</td>\n",
       "      <td>53265724</td>\n",
       "    </tr>\n",
       "    <tr>\n",
       "      <th>3</th>\n",
       "      <td>145000000</td>\n",
       "      <td>4</td>\n",
       "      <td>False</td>\n",
       "      <td>4</td>\n",
       "      <td>2014</td>\n",
       "      <td>6</td>\n",
       "      <td>19</td>\n",
       "      <td>180.0</td>\n",
       "      <td>True</td>\n",
       "      <td>2</td>\n",
       "      <td>...</td>\n",
       "      <td>1</td>\n",
       "      <td>Kazahstan</td>\n",
       "      <td>Almaty</td>\n",
       "      <td>Medeuskiy_r-n</td>\n",
       "      <td>ALY-FARABI</td>\n",
       "      <td>21</td>\n",
       "      <td>43.228729</td>\n",
       "      <td>76.941899</td>\n",
       "      <td>Пластиковые окна, улучшенная, кладовка, тихий ...</td>\n",
       "      <td>52527406</td>\n",
       "    </tr>\n",
       "    <tr>\n",
       "      <th>4</th>\n",
       "      <td>18400000</td>\n",
       "      <td>1</td>\n",
       "      <td>False</td>\n",
       "      <td>2</td>\n",
       "      <td>2015</td>\n",
       "      <td>4</td>\n",
       "      <td>14</td>\n",
       "      <td>45.0</td>\n",
       "      <td>False</td>\n",
       "      <td>2</td>\n",
       "      <td>...</td>\n",
       "      <td>2</td>\n",
       "      <td>Kazahstan</td>\n",
       "      <td>Nur-Sultan_(Astana)</td>\n",
       "      <td>Esilyskiy_r-n</td>\n",
       "      <td>Sarayshyk</td>\n",
       "      <td>7</td>\n",
       "      <td>51.135119</td>\n",
       "      <td>71.427339</td>\n",
       "      <td>Пластиковые окна, неугловая, улучшенная, комна...</td>\n",
       "      <td>53091362</td>\n",
       "    </tr>\n",
       "  </tbody>\n",
       "</table>\n",
       "<p>5 rows × 30 columns</p>\n",
       "</div>"
      ],
      "text/plain": [
       "       Price  Rooms  isMortgaged  BuildingType  BuildingYear  Floor  \\\n",
       "0   19000000      2        False             2          2018      4   \n",
       "1   27300000      3        False             1          2015     12   \n",
       "2   17350000      2        False             4          2015     19   \n",
       "3  145000000      4        False             4          2014      6   \n",
       "4   18400000      1        False             2          2015      4   \n",
       "\n",
       "   CountOfFloor  Square  PrivDormitory  Renovation  ...  HasChange    Country  \\\n",
       "0             9    55.0          False           2  ...          2  Kazahstan   \n",
       "1            14    85.0          False           2  ...          2  Kazahstan   \n",
       "2            24    73.0          False           1  ...          2  Kazahstan   \n",
       "3            19   180.0           True           2  ...          1  Kazahstan   \n",
       "4            14    45.0          False           2  ...          2  Kazahstan   \n",
       "\n",
       "                  City         District                Street  HouseNum  \\\n",
       "0  Nur-Sultan_(Astana)    Esilyskiy_r-n       Ilyyasa_Omarova        23   \n",
       "1  Nur-Sultan_(Astana)    Esilyskiy_r-n  prospekt_Mangilik_El        17   \n",
       "2  Nur-Sultan_(Astana)  Almatinskiy_r-n   Ahmeta_Baytursynova        17   \n",
       "3               Almaty    Medeuskiy_r-n            ALY-FARABI        21   \n",
       "4  Nur-Sultan_(Astana)    Esilyskiy_r-n             Sarayshyk         7   \n",
       "\n",
       "    Latitude  Longitude                                   OtherInformation  \\\n",
       "0  51.139545  71.369721  Пластиковые окна, неугловая, улучшенная, комна...   \n",
       "1  51.115090  71.434078                   Комнаты изолированы, тихий двор.   \n",
       "2  51.123659  71.475127        Кухня-студия, встроенная кухня, тихий двор.   \n",
       "3  43.228729  76.941899  Пластиковые окна, улучшенная, кладовка, тихий ...   \n",
       "4  51.135119  71.427339  Пластиковые окна, неугловая, улучшенная, комна...   \n",
       "\n",
       "         ID  \n",
       "0  52917991  \n",
       "1  53112971  \n",
       "2  53265724  \n",
       "3  52527406  \n",
       "4  53091362  \n",
       "\n",
       "[5 rows x 30 columns]"
      ]
     },
     "execution_count": 173,
     "metadata": {},
     "output_type": "execute_result"
    }
   ],
   "source": [
    "df.drop(['Comment'],axis=1,inplace=True)\n",
    "df.drop(['Date'],axis=1,inplace=True)\n",
    "df.head()"
   ]
  },
  {
   "cell_type": "code",
   "execution_count": 174,
   "metadata": {},
   "outputs": [
    {
     "data": {
      "text/plain": [
       "<matplotlib.axes._subplots.AxesSubplot at 0x2aebd8b4198>"
      ]
     },
     "execution_count": 174,
     "metadata": {},
     "output_type": "execute_result"
    },
    {
     "data": {
      "image/png": "[encoded data removed]",
      "text/plain": [
       "<Figure size 432x288 with 1 Axes>"
      ]
     },
     "metadata": {
      "needs_background": "light"
     },
     "output_type": "display_data"
    }
   ],
   "source": [
    "sns.boxplot(x='Price', data=df)"
   ]
  },
  {
   "cell_type": "code",
   "execution_count": 175,
   "metadata": {},
   "outputs": [
    {
     "data": {
      "text/plain": [
       "<matplotlib.axes._subplots.AxesSubplot at 0x2aeb6ae8b38>"
      ]
     },
     "execution_count": 175,
     "metadata": {},
     "output_type": "execute_result"
    },
    {
     "data": {
      "image/png": "[encoded data removed]",
      "text/plain": [
       "<Figure size 432x288 with 1 Axes>"
      ]
     },
     "metadata": {
      "needs_background": "light"
     },
     "output_type": "display_data"
    }
   ],
   "source": [
    "sns.distplot(df['Price'])"
   ]
  },
  {
   "cell_type": "code",
   "execution_count": 176,
   "metadata": {},
   "outputs": [
    {
     "data": {
      "image/png": "[encoded data removed]",
      "text/plain": [
       "<Figure size 720x288 with 1 Axes>"
      ]
     },
     "metadata": {
      "needs_background": "light"
     },
     "output_type": "display_data"
    }
   ],
   "source": [
    "features = ['Price']\n",
    "df[features].hist(figsize=(10,4));"
   ]
  },
  {
   "cell_type": "code",
   "execution_count": 177,
   "metadata": {},
   "outputs": [
    {
     "data": {
      "image/png": "[encoded data removed]",
      "text/plain": [
       "<Figure size 864x648 with 2 Axes>"
      ]
     },
     "metadata": {
      "needs_background": "light"
     },
     "output_type": "display_data"
    }
   ],
   "source": [
    "#Calculate the correlation matrix\n",
    "corr = df.corr(method='spearman')\n",
    "\n",
    "#Create a mask to hide the upper triangle of the correlation matrix (which is symmetric)\n",
    "mask = np.zeros_like(corr, dtype=np.bool)\n",
    "mask[np.triu_indices_from(mask)] = True\n",
    "\n",
    "f, ax = plt.subplots(figsize=(12, 9))\n",
    "\n",
    "sns.heatmap(corr, mask=mask, vmax=1, center=0, annot=True, fmt='.1f',\n",
    "            square=True, linewidths=.5, cbar_kws={\"shrink\": .5});"
   ]
  },
  {
   "cell_type": "code",
   "execution_count": 178,
   "metadata": {},
   "outputs": [
    {
     "data": {
      "text/plain": [
       "<matplotlib.axes._subplots.AxesSubplot at 0x2aebd8a2a58>"
      ]
     },
     "execution_count": 178,
     "metadata": {},
     "output_type": "execute_result"
    },
    {
     "data": {
      "image/png": "[encoded data removed]",
      "text/plain": [
       "<Figure size 432x288 with 1 Axes>"
      ]
     },
     "metadata": {
      "needs_background": "light"
     },
     "output_type": "display_data"
    }
   ],
   "source": [
    "sns.countplot(x='City' , data =df)"
   ]
  },
  {
   "cell_type": "code",
   "execution_count": 179,
   "metadata": {},
   "outputs": [
    {
     "data": {
      "text/plain": [
       "<matplotlib.axes._subplots.AxesSubplot at 0x2aebd898cc0>"
      ]
     },
     "execution_count": 179,
     "metadata": {},
     "output_type": "execute_result"
    },
    {
     "data": {
      "image/png": "[encoded data removed]",
      "text/plain": [
       "<Figure size 864x720 with 1 Axes>"
      ]
     },
     "metadata": {
      "needs_background": "light"
     },
     "output_type": "display_data"
    }
   ],
   "source": [
    "plt.figure(figsize=(12, 10))\n",
    "sns.violinplot(x='PrivDormitory', \n",
    "    y='Price', \n",
    "    hue='PrivDormitory', \n",
    "    palette=\"muted\", \n",
    "    split=True, \n",
    "    data=df, \n",
    "    scale='count',\n",
    "    scale_hue=False)"
   ]
  },
  {
   "cell_type": "code",
   "execution_count": 180,
   "metadata": {},
   "outputs": [
    {
     "data": {
      "text/plain": [
       "<matplotlib.axes._subplots.AxesSubplot at 0x2aeb6f91b70>"
      ]
     },
     "execution_count": 180,
     "metadata": {},
     "output_type": "execute_result"
    },
    {
     "data": {
      "image/png": "[encoded data removed]",
      "text/plain": [
       "<Figure size 864x720 with 1 Axes>"
      ]
     },
     "metadata": {
      "needs_background": "light"
     },
     "output_type": "display_data"
    }
   ],
   "source": [
    "plt.figure(figsize=(12, 10))\n",
    "sns.violinplot(x='BalconyGlazed', \n",
    "    y='Price', \n",
    "    hue='BalconyGlazed', \n",
    "    palette=\"muted\", \n",
    "    split=True, \n",
    "    data=df, \n",
    "    scale='count',\n",
    "    scale_hue=False)"
   ]
  },
  {
   "cell_type": "code",
   "execution_count": 181,
   "metadata": {},
   "outputs": [
    {
     "data": {
      "text/plain": [
       "<matplotlib.axes._subplots.AxesSubplot at 0x2aeb8447d30>"
      ]
     },
     "execution_count": 181,
     "metadata": {},
     "output_type": "execute_result"
    },
    {
     "data": {
      "image/png": "[encoded data removed]",
      "text/plain": [
       "<Figure size 432x288 with 1 Axes>"
      ]
     },
     "metadata": {
      "needs_background": "light"
     },
     "output_type": "display_data"
    }
   ],
   "source": [
    "sns.boxplot(x='Price' , data = df)"
   ]
  },
  {
   "cell_type": "code",
   "execution_count": 182,
   "metadata": {},
   "outputs": [
    {
     "data": {
      "text/plain": [
       "Nur-Sultan_(Astana)         1628\n",
       "Almaty                      1297\n",
       "Aktau                        439\n",
       "Karaganda                    297\n",
       "Aktobe                       290\n",
       "Shymkent                     198\n",
       "Atyrau                       161\n",
       "Uralysk                      151\n",
       "Pavlodar                     147\n",
       "Semey                        136\n",
       "Usty-Kamenogorsk             132\n",
       "Taraz                        131\n",
       "Kostanay                     126\n",
       "Kyzylorda                     99\n",
       "Kokshetau                     85\n",
       "Temirtau                      44\n",
       "Kosshy                        35\n",
       "Petropavlovsk                 31\n",
       "Taldykorgan                   24\n",
       "Zhezkazgan                    21\n",
       "ekibastuz                     20\n",
       "Kaskelen                      17\n",
       "Kapchagay                     15\n",
       "Aksu                          14\n",
       "Zhanaozen                     13\n",
       "Balhash                       12\n",
       "Batumi                        11\n",
       "Rudnyy                        10\n",
       "Otegen_batyr                  10\n",
       "Kentau                         8\n",
       "                            ... \n",
       "Sastobe                        1\n",
       "Shelek                         1\n",
       "Zelenyy_bor                    1\n",
       "Chelyabinsk                    1\n",
       "Karabulak_(p_Klyuchi)          1\n",
       "Krasnyy_yar                    1\n",
       "Sortirovka                     1\n",
       "Bekkul_baba                    1\n",
       "Novosibirsk                    1\n",
       "Arkalyk                        1\n",
       "Katarkoly                      1\n",
       "Fedorovka                      1\n",
       "Shu                            1\n",
       "Alga                           1\n",
       "Zhanatas                       1\n",
       "Damsa                          1\n",
       "Merke                          1\n",
       "Akmol                          1\n",
       "Avat                           1\n",
       "Pattayya                       1\n",
       "Kargalinskoe_(Zhilyanka)       1\n",
       "Aktas                          1\n",
       "Shulybinsk                     1\n",
       "Boroduliha                     1\n",
       "Santa-Krus-De-Tenerife         1\n",
       "Akkoly                         1\n",
       "Orenburg                       1\n",
       "Arshaly                        1\n",
       "Zarechnoe                      1\n",
       "Belousovka                     1\n",
       "Name: City, Length: 114, dtype: int64"
      ]
     },
     "execution_count": 182,
     "metadata": {},
     "output_type": "execute_result"
    }
   ],
   "source": [
    "df['City'].value_counts()"
   ]
  },
  {
   "cell_type": "code",
   "execution_count": 183,
   "metadata": {},
   "outputs": [
    {
     "data": {
      "image/png": "[encoded data removed]",
      "text/plain": [
       "<Figure size 1080x1080 with 1 Axes>"
      ]
     },
     "metadata": {
      "needs_background": "light"
     },
     "output_type": "display_data"
    }
   ],
   "source": [
    "_ , axes = plt.subplots(1,1,sharey = True , figsize=(15,15))\n",
    "sns.boxplot(data=df[df['City'] == 'Almaty'] , x= 'City' , y = 'Price' , ax= axes);\n",
    "# sns.violinplot(data=df['Total intl calls'], ax=axes[1]);"
   ]
  },
  {
   "cell_type": "code",
   "execution_count": 184,
   "metadata": {},
   "outputs": [],
   "source": [
    "df2 = df\n",
    "df2['Price'] = (df['Price']-df['Price'].mean())/df['Price'].std()"
   ]
  },
  {
   "cell_type": "code",
   "execution_count": 185,
   "metadata": {},
   "outputs": [
    {
     "data": {
      "image/png": "[encoded data removed]",
      "text/plain": [
       "<Figure size 1080x1080 with 1 Axes>"
      ]
     },
     "metadata": {
      "needs_background": "light"
     },
     "output_type": "display_data"
    }
   ],
   "source": [
    "_ , axes = plt.subplots(1,1,sharey = True , figsize=(15,15))\n",
    "sns.boxplot(data=df2[df2['City'] == 'Almaty'] , x= 'City' , y = 'Price' , ax= axes);\n",
    "# sns.violinplot(data=df['Total intl calls'], ax=axes[1]);"
   ]
  },
  {
   "cell_type": "code",
   "execution_count": 186,
   "metadata": {},
   "outputs": [
    {
     "data": {
      "text/html": [
       "<div>\n",
       "<style scoped>\n",
       "    .dataframe tbody tr th:only-of-type {\n",
       "        vertical-align: middle;\n",
       "    }\n",
       "\n",
       "    .dataframe tbody tr th {\n",
       "        vertical-align: top;\n",
       "    }\n",
       "\n",
       "    .dataframe thead th {\n",
       "        text-align: right;\n",
       "    }\n",
       "</style>\n",
       "<table border=\"1\" class=\"dataframe\">\n",
       "  <thead>\n",
       "    <tr style=\"text-align: right;\">\n",
       "      <th></th>\n",
       "      <th>Price</th>\n",
       "      <th>Rooms</th>\n",
       "      <th>isMortgaged</th>\n",
       "      <th>BuildingType</th>\n",
       "      <th>BuildingYear</th>\n",
       "      <th>Floor</th>\n",
       "      <th>CountOfFloor</th>\n",
       "      <th>Square</th>\n",
       "      <th>PrivDormitory</th>\n",
       "      <th>Renovation</th>\n",
       "      <th>...</th>\n",
       "      <th>HasChange</th>\n",
       "      <th>Country</th>\n",
       "      <th>City</th>\n",
       "      <th>District</th>\n",
       "      <th>Street</th>\n",
       "      <th>HouseNum</th>\n",
       "      <th>Latitude</th>\n",
       "      <th>Longitude</th>\n",
       "      <th>OtherInformation</th>\n",
       "      <th>ID</th>\n",
       "    </tr>\n",
       "  </thead>\n",
       "  <tbody>\n",
       "    <tr>\n",
       "      <th>920</th>\n",
       "      <td>21.601144</td>\n",
       "      <td>6</td>\n",
       "      <td>False</td>\n",
       "      <td>1</td>\n",
       "      <td>2013</td>\n",
       "      <td>2</td>\n",
       "      <td>3</td>\n",
       "      <td>420.0</td>\n",
       "      <td>False</td>\n",
       "      <td>2</td>\n",
       "      <td>...</td>\n",
       "      <td>2</td>\n",
       "      <td>Kazahstan</td>\n",
       "      <td>Almaty</td>\n",
       "      <td>Medeuskiy_r-n</td>\n",
       "      <td>prospekt_Dostyk</td>\n",
       "      <td>276</td>\n",
       "      <td>43.219026</td>\n",
       "      <td>76.964285</td>\n",
       "      <td>Комнаты изолированы, встроенная кухня, тихий д...</td>\n",
       "      <td>26724417</td>\n",
       "    </tr>\n",
       "    <tr>\n",
       "      <th>1080</th>\n",
       "      <td>21.324653</td>\n",
       "      <td>6</td>\n",
       "      <td>False</td>\n",
       "      <td>2</td>\n",
       "      <td>2012</td>\n",
       "      <td>5</td>\n",
       "      <td>9</td>\n",
       "      <td>420.0</td>\n",
       "      <td>False</td>\n",
       "      <td>5</td>\n",
       "      <td>...</td>\n",
       "      <td>2</td>\n",
       "      <td>Kazahstan</td>\n",
       "      <td>Almaty</td>\n",
       "      <td>Medeuskiy_r-n</td>\n",
       "      <td>Ospanova</td>\n",
       "      <td>69/2</td>\n",
       "      <td>43.195673</td>\n",
       "      <td>76.972064</td>\n",
       "      <td>NaN</td>\n",
       "      <td>52996261</td>\n",
       "    </tr>\n",
       "    <tr>\n",
       "      <th>912</th>\n",
       "      <td>21.324653</td>\n",
       "      <td>8</td>\n",
       "      <td>False</td>\n",
       "      <td>2</td>\n",
       "      <td>2017</td>\n",
       "      <td>5</td>\n",
       "      <td>6</td>\n",
       "      <td>415.0</td>\n",
       "      <td>False</td>\n",
       "      <td>2</td>\n",
       "      <td>...</td>\n",
       "      <td>2</td>\n",
       "      <td>Kazahstan</td>\n",
       "      <td>Almaty</td>\n",
       "      <td>Medeuskiy_r-n</td>\n",
       "      <td>Ospanova</td>\n",
       "      <td>69/2</td>\n",
       "      <td>43.195673</td>\n",
       "      <td>76.972064</td>\n",
       "      <td>Комнаты изолированы, новая сантехника, тихий д...</td>\n",
       "      <td>50470958</td>\n",
       "    </tr>\n",
       "    <tr>\n",
       "      <th>1223</th>\n",
       "      <td>13.893966</td>\n",
       "      <td>6</td>\n",
       "      <td>False</td>\n",
       "      <td>1</td>\n",
       "      <td>2006</td>\n",
       "      <td>1</td>\n",
       "      <td>3</td>\n",
       "      <td>380.0</td>\n",
       "      <td>False</td>\n",
       "      <td>2</td>\n",
       "      <td>...</td>\n",
       "      <td>2</td>\n",
       "      <td>Kazahstan</td>\n",
       "      <td>Almaty</td>\n",
       "      <td>Medeuskiy_r-n</td>\n",
       "      <td>Dostyk</td>\n",
       "      <td>132</td>\n",
       "      <td>43.208726</td>\n",
       "      <td>76.970755</td>\n",
       "      <td>Пластиковые окна, неугловая, улучшенная, комна...</td>\n",
       "      <td>52261943</td>\n",
       "    </tr>\n",
       "    <tr>\n",
       "      <th>4355</th>\n",
       "      <td>11.301865</td>\n",
       "      <td>8</td>\n",
       "      <td>False</td>\n",
       "      <td>4</td>\n",
       "      <td>2005</td>\n",
       "      <td>21</td>\n",
       "      <td>22</td>\n",
       "      <td>377.0</td>\n",
       "      <td>True</td>\n",
       "      <td>5</td>\n",
       "      <td>...</td>\n",
       "      <td>2</td>\n",
       "      <td>Kazahstan</td>\n",
       "      <td>Almaty</td>\n",
       "      <td>Almalinskiy_r-n</td>\n",
       "      <td>Abylayhana</td>\n",
       "      <td>92</td>\n",
       "      <td>43.250383</td>\n",
       "      <td>76.942941</td>\n",
       "      <td>NaN</td>\n",
       "      <td>51243934</td>\n",
       "    </tr>\n",
       "    <tr>\n",
       "      <th>1121</th>\n",
       "      <td>9.905587</td>\n",
       "      <td>4</td>\n",
       "      <td>False</td>\n",
       "      <td>2</td>\n",
       "      <td>2017</td>\n",
       "      <td>2</td>\n",
       "      <td>9</td>\n",
       "      <td>220.0</td>\n",
       "      <td>False</td>\n",
       "      <td>2</td>\n",
       "      <td>...</td>\n",
       "      <td>2</td>\n",
       "      <td>Kazahstan</td>\n",
       "      <td>Almaty</td>\n",
       "      <td>Medeuskiy_r-n</td>\n",
       "      <td>Omarova</td>\n",
       "      <td>21</td>\n",
       "      <td>43.210249</td>\n",
       "      <td>76.980481</td>\n",
       "      <td>NaN</td>\n",
       "      <td>53267470</td>\n",
       "    </tr>\n",
       "    <tr>\n",
       "      <th>3361</th>\n",
       "      <td>9.850289</td>\n",
       "      <td>5</td>\n",
       "      <td>False</td>\n",
       "      <td>2</td>\n",
       "      <td>2002</td>\n",
       "      <td>1</td>\n",
       "      <td>7</td>\n",
       "      <td>272.0</td>\n",
       "      <td>False</td>\n",
       "      <td>2</td>\n",
       "      <td>...</td>\n",
       "      <td>2</td>\n",
       "      <td>Kazahstan</td>\n",
       "      <td>Almaty</td>\n",
       "      <td>Medeuskiy_r-n</td>\n",
       "      <td>Zhambyla</td>\n",
       "      <td>26</td>\n",
       "      <td>43.248367</td>\n",
       "      <td>76.953721</td>\n",
       "      <td>NaN</td>\n",
       "      <td>29610838</td>\n",
       "    </tr>\n",
       "    <tr>\n",
       "      <th>4258</th>\n",
       "      <td>9.573798</td>\n",
       "      <td>3</td>\n",
       "      <td>False</td>\n",
       "      <td>2</td>\n",
       "      <td>2008</td>\n",
       "      <td>4</td>\n",
       "      <td>7</td>\n",
       "      <td>210.0</td>\n",
       "      <td>False</td>\n",
       "      <td>2</td>\n",
       "      <td>...</td>\n",
       "      <td>2</td>\n",
       "      <td>Kazahstan</td>\n",
       "      <td>Almaty</td>\n",
       "      <td>Bostandykskiy_r-n</td>\n",
       "      <td>Miras</td>\n",
       "      <td>188/2</td>\n",
       "      <td>43.182132</td>\n",
       "      <td>76.876084</td>\n",
       "      <td>Пластиковые окна, улучшенная, комнаты изолиров...</td>\n",
       "      <td>47675719</td>\n",
       "    </tr>\n",
       "    <tr>\n",
       "      <th>1466</th>\n",
       "      <td>8.536958</td>\n",
       "      <td>6</td>\n",
       "      <td>False</td>\n",
       "      <td>4</td>\n",
       "      <td>2004</td>\n",
       "      <td>2</td>\n",
       "      <td>3</td>\n",
       "      <td>360.0</td>\n",
       "      <td>False</td>\n",
       "      <td>5</td>\n",
       "      <td>...</td>\n",
       "      <td>2</td>\n",
       "      <td>Kazahstan</td>\n",
       "      <td>Almaty</td>\n",
       "      <td>Medeuskiy_r-n</td>\n",
       "      <td>Dostyk</td>\n",
       "      <td>503</td>\n",
       "      <td>43.207239</td>\n",
       "      <td>76.971471</td>\n",
       "      <td>NaN</td>\n",
       "      <td>51540546</td>\n",
       "    </tr>\n",
       "    <tr>\n",
       "      <th>4460</th>\n",
       "      <td>8.536958</td>\n",
       "      <td>4</td>\n",
       "      <td>False</td>\n",
       "      <td>2</td>\n",
       "      <td>2015</td>\n",
       "      <td>7</td>\n",
       "      <td>10</td>\n",
       "      <td>172.0</td>\n",
       "      <td>False</td>\n",
       "      <td>2</td>\n",
       "      <td>...</td>\n",
       "      <td>2</td>\n",
       "      <td>Kazahstan</td>\n",
       "      <td>Almaty</td>\n",
       "      <td>Bostandykskiy_r-n</td>\n",
       "      <td>Buhar_zhyrau</td>\n",
       "      <td>163a</td>\n",
       "      <td>43.231501</td>\n",
       "      <td>76.914500</td>\n",
       "      <td>Пластиковые окна, неугловая, улучшенная, комна...</td>\n",
       "      <td>20324241</td>\n",
       "    </tr>\n",
       "    <tr>\n",
       "      <th>4025</th>\n",
       "      <td>8.502397</td>\n",
       "      <td>5</td>\n",
       "      <td>False</td>\n",
       "      <td>4</td>\n",
       "      <td>2017</td>\n",
       "      <td>7</td>\n",
       "      <td>7</td>\n",
       "      <td>230.0</td>\n",
       "      <td>True</td>\n",
       "      <td>2</td>\n",
       "      <td>...</td>\n",
       "      <td>2</td>\n",
       "      <td>Kazahstan</td>\n",
       "      <td>Almaty</td>\n",
       "      <td>Medeuskiy_r-n</td>\n",
       "      <td>Taymanova</td>\n",
       "      <td>136</td>\n",
       "      <td>43.221352</td>\n",
       "      <td>76.951601</td>\n",
       "      <td>NaN</td>\n",
       "      <td>52455784</td>\n",
       "    </tr>\n",
       "    <tr>\n",
       "      <th>3242</th>\n",
       "      <td>7.845732</td>\n",
       "      <td>5</td>\n",
       "      <td>False</td>\n",
       "      <td>4</td>\n",
       "      <td>2010</td>\n",
       "      <td>3</td>\n",
       "      <td>8</td>\n",
       "      <td>305.0</td>\n",
       "      <td>False</td>\n",
       "      <td>4</td>\n",
       "      <td>...</td>\n",
       "      <td>2</td>\n",
       "      <td>Kazahstan</td>\n",
       "      <td>Almaty</td>\n",
       "      <td>Medeuskiy_r-n</td>\n",
       "      <td>NaN</td>\n",
       "      <td>13-3</td>\n",
       "      <td>43.206514</td>\n",
       "      <td>76.951733</td>\n",
       "      <td>Пластиковые окна, тихий двор, кондиционер, неу...</td>\n",
       "      <td>21274099</td>\n",
       "    </tr>\n",
       "    <tr>\n",
       "      <th>2574</th>\n",
       "      <td>7.845732</td>\n",
       "      <td>3</td>\n",
       "      <td>False</td>\n",
       "      <td>2</td>\n",
       "      <td>2009</td>\n",
       "      <td>3</td>\n",
       "      <td>4</td>\n",
       "      <td>220.0</td>\n",
       "      <td>False</td>\n",
       "      <td>2</td>\n",
       "      <td>...</td>\n",
       "      <td>2</td>\n",
       "      <td>Kazahstan</td>\n",
       "      <td>Almaty</td>\n",
       "      <td>Medeuskiy_r-n</td>\n",
       "      <td>Ospanova</td>\n",
       "      <td>69B</td>\n",
       "      <td>43.197244</td>\n",
       "      <td>76.970241</td>\n",
       "      <td>Пластиковые окна, неугловая, улучшенная, комна...</td>\n",
       "      <td>53371368</td>\n",
       "    </tr>\n",
       "    <tr>\n",
       "      <th>917</th>\n",
       "      <td>7.845732</td>\n",
       "      <td>5</td>\n",
       "      <td>False</td>\n",
       "      <td>4</td>\n",
       "      <td>2008</td>\n",
       "      <td>2</td>\n",
       "      <td>2</td>\n",
       "      <td>305.0</td>\n",
       "      <td>False</td>\n",
       "      <td>5</td>\n",
       "      <td>...</td>\n",
       "      <td>2</td>\n",
       "      <td>Kazahstan</td>\n",
       "      <td>Almaty</td>\n",
       "      <td>Medeuskiy_r-n</td>\n",
       "      <td>Zhamakaeva</td>\n",
       "      <td>18</td>\n",
       "      <td>43.206781</td>\n",
       "      <td>76.953690</td>\n",
       "      <td>NaN</td>\n",
       "      <td>52790079</td>\n",
       "    </tr>\n",
       "    <tr>\n",
       "      <th>1222</th>\n",
       "      <td>7.845732</td>\n",
       "      <td>8</td>\n",
       "      <td>False</td>\n",
       "      <td>1</td>\n",
       "      <td>2019</td>\n",
       "      <td>1</td>\n",
       "      <td>3</td>\n",
       "      <td>460.0</td>\n",
       "      <td>False</td>\n",
       "      <td>4</td>\n",
       "      <td>...</td>\n",
       "      <td>2</td>\n",
       "      <td>Kazahstan</td>\n",
       "      <td>Almaty</td>\n",
       "      <td>Medeuskiy_r-n</td>\n",
       "      <td>prospekt_Dostyk</td>\n",
       "      <td>300</td>\n",
       "      <td>43.207606</td>\n",
       "      <td>76.968500</td>\n",
       "      <td>Пластиковые окна, улучшенная, комнаты изолиров...</td>\n",
       "      <td>50957518</td>\n",
       "    </tr>\n",
       "    <tr>\n",
       "      <th>1953</th>\n",
       "      <td>7.500118</td>\n",
       "      <td>6</td>\n",
       "      <td>False</td>\n",
       "      <td>2</td>\n",
       "      <td>2016</td>\n",
       "      <td>12</td>\n",
       "      <td>21</td>\n",
       "      <td>246.0</td>\n",
       "      <td>False</td>\n",
       "      <td>2</td>\n",
       "      <td>...</td>\n",
       "      <td>2</td>\n",
       "      <td>Kazahstan</td>\n",
       "      <td>Almaty</td>\n",
       "      <td>Bostandykskiy_r-n</td>\n",
       "      <td>prospekt_Aly-Farabi</td>\n",
       "      <td>21/10</td>\n",
       "      <td>43.228335</td>\n",
       "      <td>76.942312</td>\n",
       "      <td>Пластиковые окна, неугловая, улучшенная, комна...</td>\n",
       "      <td>52260266</td>\n",
       "    </tr>\n",
       "    <tr>\n",
       "      <th>1226</th>\n",
       "      <td>7.209803</td>\n",
       "      <td>7</td>\n",
       "      <td>False</td>\n",
       "      <td>1</td>\n",
       "      <td>2006</td>\n",
       "      <td>1</td>\n",
       "      <td>3</td>\n",
       "      <td>620.0</td>\n",
       "      <td>False</td>\n",
       "      <td>2</td>\n",
       "      <td>...</td>\n",
       "      <td>2</td>\n",
       "      <td>Kazahstan</td>\n",
       "      <td>Almaty</td>\n",
       "      <td>Bostandykskiy_r-n</td>\n",
       "      <td>Hodzhanova</td>\n",
       "      <td>567</td>\n",
       "      <td>43.216890</td>\n",
       "      <td>76.908013</td>\n",
       "      <td>Пластиковые окна, улучшенная, комнаты изолиров...</td>\n",
       "      <td>50957579</td>\n",
       "    </tr>\n",
       "    <tr>\n",
       "      <th>4867</th>\n",
       "      <td>6.808891</td>\n",
       "      <td>3</td>\n",
       "      <td>False</td>\n",
       "      <td>2</td>\n",
       "      <td>2008</td>\n",
       "      <td>2</td>\n",
       "      <td>9</td>\n",
       "      <td>210.0</td>\n",
       "      <td>False</td>\n",
       "      <td>2</td>\n",
       "      <td>...</td>\n",
       "      <td>2</td>\n",
       "      <td>Kazahstan</td>\n",
       "      <td>Almaty</td>\n",
       "      <td>Medeuskiy_r-n</td>\n",
       "      <td>Tulebaeva</td>\n",
       "      <td>171</td>\n",
       "      <td>43.245825</td>\n",
       "      <td>76.948969</td>\n",
       "      <td>Пластиковые окна, улучшенная, комнаты изолиров...</td>\n",
       "      <td>53370586</td>\n",
       "    </tr>\n",
       "    <tr>\n",
       "      <th>1666</th>\n",
       "      <td>6.312591</td>\n",
       "      <td>5</td>\n",
       "      <td>False</td>\n",
       "      <td>4</td>\n",
       "      <td>2014</td>\n",
       "      <td>5</td>\n",
       "      <td>8</td>\n",
       "      <td>257.0</td>\n",
       "      <td>False</td>\n",
       "      <td>2</td>\n",
       "      <td>...</td>\n",
       "      <td>2</td>\n",
       "      <td>Kazahstan</td>\n",
       "      <td>Almaty</td>\n",
       "      <td>Medeuskiy_r-n</td>\n",
       "      <td>Esenberlina</td>\n",
       "      <td>155</td>\n",
       "      <td>43.265802</td>\n",
       "      <td>76.972837</td>\n",
       "      <td>NaN</td>\n",
       "      <td>18556787</td>\n",
       "    </tr>\n",
       "    <tr>\n",
       "      <th>3961</th>\n",
       "      <td>5.564683</td>\n",
       "      <td>8</td>\n",
       "      <td>False</td>\n",
       "      <td>2</td>\n",
       "      <td>2017</td>\n",
       "      <td>7</td>\n",
       "      <td>8</td>\n",
       "      <td>305.2</td>\n",
       "      <td>True</td>\n",
       "      <td>5</td>\n",
       "      <td>...</td>\n",
       "      <td>2</td>\n",
       "      <td>Kazahstan</td>\n",
       "      <td>Almaty</td>\n",
       "      <td>Medeuskiy_r-n</td>\n",
       "      <td>NaN</td>\n",
       "      <td>NaN</td>\n",
       "      <td>43.220339</td>\n",
       "      <td>76.964737</td>\n",
       "      <td>NaN</td>\n",
       "      <td>52650416</td>\n",
       "    </tr>\n",
       "  </tbody>\n",
       "</table>\n",
       "<p>20 rows × 30 columns</p>\n",
       "</div>"
      ],
      "text/plain": [
       "          Price  Rooms  isMortgaged  BuildingType  BuildingYear  Floor  \\\n",
       "920   21.601144      6        False             1          2013      2   \n",
       "1080  21.324653      6        False             2          2012      5   \n",
       "912   21.324653      8        False             2          2017      5   \n",
       "1223  13.893966      6        False             1          2006      1   \n",
       "4355  11.301865      8        False             4          2005     21   \n",
       "1121   9.905587      4        False             2          2017      2   \n",
       "3361   9.850289      5        False             2          2002      1   \n",
       "4258   9.573798      3        False             2          2008      4   \n",
       "1466   8.536958      6        False             4          2004      2   \n",
       "4460   8.536958      4        False             2          2015      7   \n",
       "4025   8.502397      5        False             4          2017      7   \n",
       "3242   7.845732      5        False             4          2010      3   \n",
       "2574   7.845732      3        False             2          2009      3   \n",
       "917    7.845732      5        False             4          2008      2   \n",
       "1222   7.845732      8        False             1          2019      1   \n",
       "1953   7.500118      6        False             2          2016     12   \n",
       "1226   7.209803      7        False             1          2006      1   \n",
       "4867   6.808891      3        False             2          2008      2   \n",
       "1666   6.312591      5        False             4          2014      5   \n",
       "3961   5.564683      8        False             2          2017      7   \n",
       "\n",
       "      CountOfFloor  Square  PrivDormitory  Renovation  ...  HasChange  \\\n",
       "920              3   420.0          False           2  ...          2   \n",
       "1080             9   420.0          False           5  ...          2   \n",
       "912              6   415.0          False           2  ...          2   \n",
       "1223             3   380.0          False           2  ...          2   \n",
       "4355            22   377.0           True           5  ...          2   \n",
       "1121             9   220.0          False           2  ...          2   \n",
       "3361             7   272.0          False           2  ...          2   \n",
       "4258             7   210.0          False           2  ...          2   \n",
       "1466             3   360.0          False           5  ...          2   \n",
       "4460            10   172.0          False           2  ...          2   \n",
       "4025             7   230.0           True           2  ...          2   \n",
       "3242             8   305.0          False           4  ...          2   \n",
       "2574             4   220.0          False           2  ...          2   \n",
       "917              2   305.0          False           5  ...          2   \n",
       "1222             3   460.0          False           4  ...          2   \n",
       "1953            21   246.0          False           2  ...          2   \n",
       "1226             3   620.0          False           2  ...          2   \n",
       "4867             9   210.0          False           2  ...          2   \n",
       "1666             8   257.0          False           2  ...          2   \n",
       "3961             8   305.2           True           5  ...          2   \n",
       "\n",
       "        Country    City           District               Street  HouseNum  \\\n",
       "920   Kazahstan  Almaty      Medeuskiy_r-n      prospekt_Dostyk       276   \n",
       "1080  Kazahstan  Almaty      Medeuskiy_r-n             Ospanova      69/2   \n",
       "912   Kazahstan  Almaty      Medeuskiy_r-n             Ospanova      69/2   \n",
       "1223  Kazahstan  Almaty      Medeuskiy_r-n               Dostyk       132   \n",
       "4355  Kazahstan  Almaty    Almalinskiy_r-n           Abylayhana        92   \n",
       "1121  Kazahstan  Almaty      Medeuskiy_r-n              Omarova        21   \n",
       "3361  Kazahstan  Almaty      Medeuskiy_r-n             Zhambyla        26   \n",
       "4258  Kazahstan  Almaty  Bostandykskiy_r-n                Miras     188/2   \n",
       "1466  Kazahstan  Almaty      Medeuskiy_r-n               Dostyk       503   \n",
       "4460  Kazahstan  Almaty  Bostandykskiy_r-n         Buhar_zhyrau      163a   \n",
       "4025  Kazahstan  Almaty      Medeuskiy_r-n            Taymanova       136   \n",
       "3242  Kazahstan  Almaty      Medeuskiy_r-n                  NaN      13-3   \n",
       "2574  Kazahstan  Almaty      Medeuskiy_r-n             Ospanova       69B   \n",
       "917   Kazahstan  Almaty      Medeuskiy_r-n           Zhamakaeva        18   \n",
       "1222  Kazahstan  Almaty      Medeuskiy_r-n      prospekt_Dostyk       300   \n",
       "1953  Kazahstan  Almaty  Bostandykskiy_r-n  prospekt_Aly-Farabi     21/10   \n",
       "1226  Kazahstan  Almaty  Bostandykskiy_r-n           Hodzhanova       567   \n",
       "4867  Kazahstan  Almaty      Medeuskiy_r-n            Tulebaeva       171   \n",
       "1666  Kazahstan  Almaty      Medeuskiy_r-n          Esenberlina       155   \n",
       "3961  Kazahstan  Almaty      Medeuskiy_r-n                  NaN       NaN   \n",
       "\n",
       "       Latitude  Longitude                                   OtherInformation  \\\n",
       "920   43.219026  76.964285  Комнаты изолированы, встроенная кухня, тихий д...   \n",
       "1080  43.195673  76.972064                                                NaN   \n",
       "912   43.195673  76.972064  Комнаты изолированы, новая сантехника, тихий д...   \n",
       "1223  43.208726  76.970755  Пластиковые окна, неугловая, улучшенная, комна...   \n",
       "4355  43.250383  76.942941                                                NaN   \n",
       "1121  43.210249  76.980481                                                NaN   \n",
       "3361  43.248367  76.953721                                                NaN   \n",
       "4258  43.182132  76.876084  Пластиковые окна, улучшенная, комнаты изолиров...   \n",
       "1466  43.207239  76.971471                                                NaN   \n",
       "4460  43.231501  76.914500  Пластиковые окна, неугловая, улучшенная, комна...   \n",
       "4025  43.221352  76.951601                                                NaN   \n",
       "3242  43.206514  76.951733  Пластиковые окна, тихий двор, кондиционер, неу...   \n",
       "2574  43.197244  76.970241  Пластиковые окна, неугловая, улучшенная, комна...   \n",
       "917   43.206781  76.953690                                                NaN   \n",
       "1222  43.207606  76.968500  Пластиковые окна, улучшенная, комнаты изолиров...   \n",
       "1953  43.228335  76.942312  Пластиковые окна, неугловая, улучшенная, комна...   \n",
       "1226  43.216890  76.908013  Пластиковые окна, улучшенная, комнаты изолиров...   \n",
       "4867  43.245825  76.948969  Пластиковые окна, улучшенная, комнаты изолиров...   \n",
       "1666  43.265802  76.972837                                                NaN   \n",
       "3961  43.220339  76.964737                                                NaN   \n",
       "\n",
       "            ID  \n",
       "920   26724417  \n",
       "1080  52996261  \n",
       "912   50470958  \n",
       "1223  52261943  \n",
       "4355  51243934  \n",
       "1121  53267470  \n",
       "3361  29610838  \n",
       "4258  47675719  \n",
       "1466  51540546  \n",
       "4460  20324241  \n",
       "4025  52455784  \n",
       "3242  21274099  \n",
       "2574  53371368  \n",
       "917   52790079  \n",
       "1222  50957518  \n",
       "1953  52260266  \n",
       "1226  50957579  \n",
       "4867  53370586  \n",
       "1666  18556787  \n",
       "3961  52650416  \n",
       "\n",
       "[20 rows x 30 columns]"
      ]
     },
     "execution_count": 186,
     "metadata": {},
     "output_type": "execute_result"
    }
   ],
   "source": [
    "# df[df['City'] == 'Almaty']['Price']\n",
    "df2[df['City'] == 'Almaty'].sort_values(by = 'Price' , ascending=False).head(20)"
   ]
  },
  {
   "cell_type": "code",
   "execution_count": 189,
   "metadata": {},
   "outputs": [],
   "source": [
    "df2 = df2.drop(920)"
   ]
  },
  {
   "cell_type": "code",
   "execution_count": 198,
   "metadata": {},
   "outputs": [],
   "source": [
    "# df2 = df2.drop([1121,3361,2458,4460,1466,4025,2574,917,1222,3242,1953])\n",
    "df2 = df2.drop([4258,1226,4857,1666])"
   ]
  },
  {
   "cell_type": "code",
   "execution_count": 200,
   "metadata": {},
   "outputs": [
    {
     "data": {
      "image/png": "[encoded data removed]",
      "text/plain": [
       "<Figure size 1080x1080 with 1 Axes>"
      ]
     },
     "metadata": {
      "needs_background": "light"
     },
     "output_type": "display_data"
    }
   ],
   "source": [
    "_ , axes = plt.subplots(1,1,sharey = True , figsize=(15,15))\n",
    "sns.boxplot(data=df2[df2['City'] == 'Almaty'] , x= 'City' , y = 'Price' , ax= axes);\n",
    "# sns.violinplot(data=df['Total intl calls'], ax=axes[1]);"
   ]
  },
  {
   "cell_type": "code",
   "execution_count": 202,
   "metadata": {},
   "outputs": [
    {
     "name": "stdout",
     "output_type": "stream",
     "text": [
      "<class 'pandas.core.frame.DataFrame'>\n",
      "Int64Index: 5761 entries, 0 to 5780\n",
      "Data columns (total 30 columns):\n",
      "Price               5761 non-null float64\n",
      "Rooms               5761 non-null int64\n",
      "isMortgaged         5761 non-null bool\n",
      "BuildingType        5761 non-null int64\n",
      "BuildingYear        5761 non-null int64\n",
      "Floor               5761 non-null int64\n",
      "CountOfFloor        5761 non-null int64\n",
      "Square              5737 non-null float64\n",
      "PrivDormitory       5761 non-null bool\n",
      "Renovation          5761 non-null int64\n",
      "TelephoneType       5761 non-null int64\n",
      "InternetType        5761 non-null int64\n",
      "BathroomType        5761 non-null int64\n",
      "Balcony             5761 non-null int64\n",
      "BalconyGlazed       5761 non-null int64\n",
      "DoorType            5761 non-null int64\n",
      "Parking             5761 non-null int64\n",
      "Furniture           5761 non-null int64\n",
      "FloorType           5761 non-null int64\n",
      "CeilingHeight       5761 non-null float64\n",
      "HasChange           5761 non-null int64\n",
      "Country             5761 non-null object\n",
      "City                5744 non-null object\n",
      "District            3436 non-null object\n",
      "Street              5736 non-null object\n",
      "HouseNum            5427 non-null object\n",
      "Latitude            5761 non-null float64\n",
      "Longitude           5761 non-null float64\n",
      "OtherInformation    3870 non-null object\n",
      "ID                  5761 non-null object\n",
      "dtypes: bool(2), float64(5), int64(16), object(7)\n",
      "memory usage: 1.4+ MB\n"
     ]
    }
   ],
   "source": [
    "df2.info()"
   ]
  },
  {
   "cell_type": "code",
   "execution_count": 205,
   "metadata": {},
   "outputs": [],
   "source": [
    "numerical = list(set(df.columns)-set(['Price', \n",
    "                                       'Rooms', \n",
    "                                       'BuildingType',\n",
    "                                       'BuildingYear',\n",
    "                                      'Floor',\n",
    "                                      'CountOfFloor',\n",
    "                                      'Square',\n",
    "                                      'Renovation',\n",
    "                                      'TelephoneType',\n",
    "                                      'InternetType',\n",
    "                                      'BathroomType',\n",
    "                                      'Balcony',\n",
    "                                      'BalconyGlazed',\n",
    "                                      'DoorType',\n",
    "                                      'Parking',\n",
    "                                      'Furniture',\n",
    "                                      'FloorType']))"
   ]
  },
  {
   "cell_type": "code",
   "execution_count": 207,
   "metadata": {},
   "outputs": [
    {
     "ename": "TypeError",
     "evalue": "numpy boolean subtract, the `-` operator, is deprecated, use the bitwise_xor, the `^` operator, or the logical_xor function instead.",
     "output_type": "error",
     "traceback": [
      "\u001b[1;31m---------------------------------------------------------------------------\u001b[0m",
      "\u001b[1;31mKeyError\u001b[0m                                  Traceback (most recent call last)",
      "\u001b[1;32m~\\Anaconda3\\lib\\site-packages\\numpy\\lib\\histograms.py\u001b[0m in \u001b[0;36m_unsigned_subtract\u001b[1;34m(a, b)\u001b[0m\n\u001b[0;32m    341\u001b[0m     \u001b[1;32mtry\u001b[0m\u001b[1;33m:\u001b[0m\u001b[1;33m\u001b[0m\u001b[1;33m\u001b[0m\u001b[0m\n\u001b[1;32m--> 342\u001b[1;33m         \u001b[0mdt\u001b[0m \u001b[1;33m=\u001b[0m \u001b[0msigned_to_unsigned\u001b[0m\u001b[1;33m[\u001b[0m\u001b[0mdt\u001b[0m\u001b[1;33m.\u001b[0m\u001b[0mtype\u001b[0m\u001b[1;33m]\u001b[0m\u001b[1;33m\u001b[0m\u001b[1;33m\u001b[0m\u001b[0m\n\u001b[0m\u001b[0;32m    343\u001b[0m     \u001b[1;32mexcept\u001b[0m \u001b[0mKeyError\u001b[0m\u001b[1;33m:\u001b[0m\u001b[1;33m\u001b[0m\u001b[1;33m\u001b[0m\u001b[0m\n",
      "\u001b[1;31mKeyError\u001b[0m: <class 'numpy.bool_'>",
      "\nDuring handling of the above exception, another exception occurred:\n",
      "\u001b[1;31mTypeError\u001b[0m                                 Traceback (most recent call last)",
      "\u001b[1;32m<ipython-input-207-aec65693efe4>\u001b[0m in \u001b[0;36m<module>\u001b[1;34m\u001b[0m\n\u001b[0;32m      1\u001b[0m \u001b[1;31m# `pairplot()` may become very slow with the SVG format\u001b[0m\u001b[1;33m\u001b[0m\u001b[1;33m\u001b[0m\u001b[1;33m\u001b[0m\u001b[0m\n\u001b[0;32m      2\u001b[0m \u001b[1;31m# %config InlineBackend.figure_format = 'png'\u001b[0m\u001b[1;33m\u001b[0m\u001b[1;33m\u001b[0m\u001b[1;33m\u001b[0m\u001b[0m\n\u001b[1;32m----> 3\u001b[1;33m \u001b[0msns\u001b[0m\u001b[1;33m.\u001b[0m\u001b[0mpairplot\u001b[0m\u001b[1;33m(\u001b[0m\u001b[0mdf\u001b[0m\u001b[1;33m[\u001b[0m\u001b[0mnumerical\u001b[0m\u001b[1;33m]\u001b[0m\u001b[1;33m)\u001b[0m\u001b[1;33m;\u001b[0m\u001b[1;33m\u001b[0m\u001b[1;33m\u001b[0m\u001b[0m\n\u001b[0m",
      "\u001b[1;32m~\\Anaconda3\\lib\\site-packages\\seaborn\\axisgrid.py\u001b[0m in \u001b[0;36mpairplot\u001b[1;34m(data, hue, hue_order, palette, vars, x_vars, y_vars, kind, diag_kind, markers, height, aspect, dropna, plot_kws, diag_kws, grid_kws, size)\u001b[0m\n\u001b[0;32m   2105\u001b[0m     \u001b[1;32mif\u001b[0m \u001b[0mgrid\u001b[0m\u001b[1;33m.\u001b[0m\u001b[0msquare_grid\u001b[0m\u001b[1;33m:\u001b[0m\u001b[1;33m\u001b[0m\u001b[1;33m\u001b[0m\u001b[0m\n\u001b[0;32m   2106\u001b[0m         \u001b[1;32mif\u001b[0m \u001b[0mdiag_kind\u001b[0m \u001b[1;33m==\u001b[0m \u001b[1;34m\"hist\"\u001b[0m\u001b[1;33m:\u001b[0m\u001b[1;33m\u001b[0m\u001b[1;33m\u001b[0m\u001b[0m\n\u001b[1;32m-> 2107\u001b[1;33m             \u001b[0mgrid\u001b[0m\u001b[1;33m.\u001b[0m\u001b[0mmap_diag\u001b[0m\u001b[1;33m(\u001b[0m\u001b[0mplt\u001b[0m\u001b[1;33m.\u001b[0m\u001b[0mhist\u001b[0m\u001b[1;33m,\u001b[0m \u001b[1;33m**\u001b[0m\u001b[0mdiag_kws\u001b[0m\u001b[1;33m)\u001b[0m\u001b[1;33m\u001b[0m\u001b[1;33m\u001b[0m\u001b[0m\n\u001b[0m\u001b[0;32m   2108\u001b[0m         \u001b[1;32melif\u001b[0m \u001b[0mdiag_kind\u001b[0m \u001b[1;33m==\u001b[0m \u001b[1;34m\"kde\"\u001b[0m\u001b[1;33m:\u001b[0m\u001b[1;33m\u001b[0m\u001b[1;33m\u001b[0m\u001b[0m\n\u001b[0;32m   2109\u001b[0m             \u001b[0mdiag_kws\u001b[0m\u001b[1;33m.\u001b[0m\u001b[0msetdefault\u001b[0m\u001b[1;33m(\u001b[0m\u001b[1;34m\"shade\"\u001b[0m\u001b[1;33m,\u001b[0m \u001b[1;32mTrue\u001b[0m\u001b[1;33m)\u001b[0m\u001b[1;33m\u001b[0m\u001b[1;33m\u001b[0m\u001b[0m\n",
      "\u001b[1;32m~\\Anaconda3\\lib\\site-packages\\seaborn\\axisgrid.py\u001b[0m in \u001b[0;36mmap_diag\u001b[1;34m(self, func, **kwargs)\u001b[0m\n\u001b[0;32m   1397\u001b[0m                     \u001b[0mcolor\u001b[0m \u001b[1;33m=\u001b[0m \u001b[0mfixed_color\u001b[0m\u001b[1;33m\u001b[0m\u001b[1;33m\u001b[0m\u001b[0m\n\u001b[0;32m   1398\u001b[0m \u001b[1;33m\u001b[0m\u001b[0m\n\u001b[1;32m-> 1399\u001b[1;33m                 \u001b[0mfunc\u001b[0m\u001b[1;33m(\u001b[0m\u001b[0mdata_k\u001b[0m\u001b[1;33m,\u001b[0m \u001b[0mlabel\u001b[0m\u001b[1;33m=\u001b[0m\u001b[0mlabel_k\u001b[0m\u001b[1;33m,\u001b[0m \u001b[0mcolor\u001b[0m\u001b[1;33m=\u001b[0m\u001b[0mcolor\u001b[0m\u001b[1;33m,\u001b[0m \u001b[1;33m**\u001b[0m\u001b[0mkwargs\u001b[0m\u001b[1;33m)\u001b[0m\u001b[1;33m\u001b[0m\u001b[1;33m\u001b[0m\u001b[0m\n\u001b[0m\u001b[0;32m   1400\u001b[0m \u001b[1;33m\u001b[0m\u001b[0m\n\u001b[0;32m   1401\u001b[0m             \u001b[0mself\u001b[0m\u001b[1;33m.\u001b[0m\u001b[0m_clean_axis\u001b[0m\u001b[1;33m(\u001b[0m\u001b[0max\u001b[0m\u001b[1;33m)\u001b[0m\u001b[1;33m\u001b[0m\u001b[1;33m\u001b[0m\u001b[0m\n",
      "\u001b[1;32m~\\Anaconda3\\lib\\site-packages\\matplotlib\\pyplot.py\u001b[0m in \u001b[0;36mhist\u001b[1;34m(x, bins, range, density, weights, cumulative, bottom, histtype, align, orientation, rwidth, log, color, label, stacked, normed, data, **kwargs)\u001b[0m\n\u001b[0;32m   2657\u001b[0m         \u001b[0malign\u001b[0m\u001b[1;33m=\u001b[0m\u001b[0malign\u001b[0m\u001b[1;33m,\u001b[0m \u001b[0morientation\u001b[0m\u001b[1;33m=\u001b[0m\u001b[0morientation\u001b[0m\u001b[1;33m,\u001b[0m \u001b[0mrwidth\u001b[0m\u001b[1;33m=\u001b[0m\u001b[0mrwidth\u001b[0m\u001b[1;33m,\u001b[0m \u001b[0mlog\u001b[0m\u001b[1;33m=\u001b[0m\u001b[0mlog\u001b[0m\u001b[1;33m,\u001b[0m\u001b[1;33m\u001b[0m\u001b[1;33m\u001b[0m\u001b[0m\n\u001b[0;32m   2658\u001b[0m         \u001b[0mcolor\u001b[0m\u001b[1;33m=\u001b[0m\u001b[0mcolor\u001b[0m\u001b[1;33m,\u001b[0m \u001b[0mlabel\u001b[0m\u001b[1;33m=\u001b[0m\u001b[0mlabel\u001b[0m\u001b[1;33m,\u001b[0m \u001b[0mstacked\u001b[0m\u001b[1;33m=\u001b[0m\u001b[0mstacked\u001b[0m\u001b[1;33m,\u001b[0m \u001b[0mnormed\u001b[0m\u001b[1;33m=\u001b[0m\u001b[0mnormed\u001b[0m\u001b[1;33m,\u001b[0m\u001b[1;33m\u001b[0m\u001b[1;33m\u001b[0m\u001b[0m\n\u001b[1;32m-> 2659\u001b[1;33m         **({\"data\": data} if data is not None else {}), **kwargs)\n\u001b[0m\u001b[0;32m   2660\u001b[0m \u001b[1;33m\u001b[0m\u001b[0m\n\u001b[0;32m   2661\u001b[0m \u001b[1;33m\u001b[0m\u001b[0m\n",
      "\u001b[1;32m~\\Anaconda3\\lib\\site-packages\\matplotlib\\__init__.py\u001b[0m in \u001b[0;36minner\u001b[1;34m(ax, data, *args, **kwargs)\u001b[0m\n\u001b[0;32m   1808\u001b[0m                         \u001b[1;34m\"the Matplotlib list!)\"\u001b[0m \u001b[1;33m%\u001b[0m \u001b[1;33m(\u001b[0m\u001b[0mlabel_namer\u001b[0m\u001b[1;33m,\u001b[0m \u001b[0mfunc\u001b[0m\u001b[1;33m.\u001b[0m\u001b[0m__name__\u001b[0m\u001b[1;33m)\u001b[0m\u001b[1;33m,\u001b[0m\u001b[1;33m\u001b[0m\u001b[1;33m\u001b[0m\u001b[0m\n\u001b[0;32m   1809\u001b[0m                         RuntimeWarning, stacklevel=2)\n\u001b[1;32m-> 1810\u001b[1;33m             \u001b[1;32mreturn\u001b[0m \u001b[0mfunc\u001b[0m\u001b[1;33m(\u001b[0m\u001b[0max\u001b[0m\u001b[1;33m,\u001b[0m \u001b[1;33m*\u001b[0m\u001b[0margs\u001b[0m\u001b[1;33m,\u001b[0m \u001b[1;33m**\u001b[0m\u001b[0mkwargs\u001b[0m\u001b[1;33m)\u001b[0m\u001b[1;33m\u001b[0m\u001b[1;33m\u001b[0m\u001b[0m\n\u001b[0m\u001b[0;32m   1811\u001b[0m \u001b[1;33m\u001b[0m\u001b[0m\n\u001b[0;32m   1812\u001b[0m         inner.__doc__ = _add_data_doc(inner.__doc__,\n",
      "\u001b[1;32m~\\Anaconda3\\lib\\site-packages\\matplotlib\\axes\\_axes.py\u001b[0m in \u001b[0;36mhist\u001b[1;34m(self, x, bins, range, density, weights, cumulative, bottom, histtype, align, orientation, rwidth, log, color, label, stacked, normed, **kwargs)\u001b[0m\n\u001b[0;32m   6589\u001b[0m             \u001b[1;31m# this will automatically overwrite bins,\u001b[0m\u001b[1;33m\u001b[0m\u001b[1;33m\u001b[0m\u001b[1;33m\u001b[0m\u001b[0m\n\u001b[0;32m   6590\u001b[0m             \u001b[1;31m# so that each histogram uses the same bins\u001b[0m\u001b[1;33m\u001b[0m\u001b[1;33m\u001b[0m\u001b[1;33m\u001b[0m\u001b[0m\n\u001b[1;32m-> 6591\u001b[1;33m             \u001b[0mm\u001b[0m\u001b[1;33m,\u001b[0m \u001b[0mbins\u001b[0m \u001b[1;33m=\u001b[0m \u001b[0mnp\u001b[0m\u001b[1;33m.\u001b[0m\u001b[0mhistogram\u001b[0m\u001b[1;33m(\u001b[0m\u001b[0mx\u001b[0m\u001b[1;33m[\u001b[0m\u001b[0mi\u001b[0m\u001b[1;33m]\u001b[0m\u001b[1;33m,\u001b[0m \u001b[0mbins\u001b[0m\u001b[1;33m,\u001b[0m \u001b[0mweights\u001b[0m\u001b[1;33m=\u001b[0m\u001b[0mw\u001b[0m\u001b[1;33m[\u001b[0m\u001b[0mi\u001b[0m\u001b[1;33m]\u001b[0m\u001b[1;33m,\u001b[0m \u001b[1;33m**\u001b[0m\u001b[0mhist_kwargs\u001b[0m\u001b[1;33m)\u001b[0m\u001b[1;33m\u001b[0m\u001b[1;33m\u001b[0m\u001b[0m\n\u001b[0m\u001b[0;32m   6592\u001b[0m             \u001b[0mm\u001b[0m \u001b[1;33m=\u001b[0m \u001b[0mm\u001b[0m\u001b[1;33m.\u001b[0m\u001b[0mastype\u001b[0m\u001b[1;33m(\u001b[0m\u001b[0mfloat\u001b[0m\u001b[1;33m)\u001b[0m  \u001b[1;31m# causes problems later if it's an int\u001b[0m\u001b[1;33m\u001b[0m\u001b[1;33m\u001b[0m\u001b[0m\n\u001b[0;32m   6593\u001b[0m             \u001b[1;32mif\u001b[0m \u001b[0mmlast\u001b[0m \u001b[1;32mis\u001b[0m \u001b[1;32mNone\u001b[0m\u001b[1;33m:\u001b[0m\u001b[1;33m\u001b[0m\u001b[1;33m\u001b[0m\u001b[0m\n",
      "\u001b[1;32m~\\Anaconda3\\lib\\site-packages\\numpy\\lib\\histograms.py\u001b[0m in \u001b[0;36mhistogram\u001b[1;34m(a, bins, range, normed, weights, density)\u001b[0m\n\u001b[0;32m    808\u001b[0m \u001b[1;33m\u001b[0m\u001b[0m\n\u001b[0;32m    809\u001b[0m         \u001b[1;31m# Pre-compute histogram scaling factor\u001b[0m\u001b[1;33m\u001b[0m\u001b[1;33m\u001b[0m\u001b[1;33m\u001b[0m\u001b[0m\n\u001b[1;32m--> 810\u001b[1;33m         \u001b[0mnorm\u001b[0m \u001b[1;33m=\u001b[0m \u001b[0mn_equal_bins\u001b[0m \u001b[1;33m/\u001b[0m \u001b[0m_unsigned_subtract\u001b[0m\u001b[1;33m(\u001b[0m\u001b[0mlast_edge\u001b[0m\u001b[1;33m,\u001b[0m \u001b[0mfirst_edge\u001b[0m\u001b[1;33m)\u001b[0m\u001b[1;33m\u001b[0m\u001b[1;33m\u001b[0m\u001b[0m\n\u001b[0m\u001b[0;32m    811\u001b[0m \u001b[1;33m\u001b[0m\u001b[0m\n\u001b[0;32m    812\u001b[0m         \u001b[1;31m# We iterate over blocks here for two reasons: the first is that for\u001b[0m\u001b[1;33m\u001b[0m\u001b[1;33m\u001b[0m\u001b[1;33m\u001b[0m\u001b[0m\n",
      "\u001b[1;32m~\\Anaconda3\\lib\\site-packages\\numpy\\lib\\histograms.py\u001b[0m in \u001b[0;36m_unsigned_subtract\u001b[1;34m(a, b)\u001b[0m\n\u001b[0;32m    342\u001b[0m         \u001b[0mdt\u001b[0m \u001b[1;33m=\u001b[0m \u001b[0msigned_to_unsigned\u001b[0m\u001b[1;33m[\u001b[0m\u001b[0mdt\u001b[0m\u001b[1;33m.\u001b[0m\u001b[0mtype\u001b[0m\u001b[1;33m]\u001b[0m\u001b[1;33m\u001b[0m\u001b[1;33m\u001b[0m\u001b[0m\n\u001b[0;32m    343\u001b[0m     \u001b[1;32mexcept\u001b[0m \u001b[0mKeyError\u001b[0m\u001b[1;33m:\u001b[0m\u001b[1;33m\u001b[0m\u001b[1;33m\u001b[0m\u001b[0m\n\u001b[1;32m--> 344\u001b[1;33m         \u001b[1;32mreturn\u001b[0m \u001b[0mnp\u001b[0m\u001b[1;33m.\u001b[0m\u001b[0msubtract\u001b[0m\u001b[1;33m(\u001b[0m\u001b[0ma\u001b[0m\u001b[1;33m,\u001b[0m \u001b[0mb\u001b[0m\u001b[1;33m,\u001b[0m \u001b[0mdtype\u001b[0m\u001b[1;33m=\u001b[0m\u001b[0mdt\u001b[0m\u001b[1;33m)\u001b[0m\u001b[1;33m\u001b[0m\u001b[1;33m\u001b[0m\u001b[0m\n\u001b[0m\u001b[0;32m    345\u001b[0m     \u001b[1;32melse\u001b[0m\u001b[1;33m:\u001b[0m\u001b[1;33m\u001b[0m\u001b[1;33m\u001b[0m\u001b[0m\n\u001b[0;32m    346\u001b[0m         \u001b[1;31m# we know the inputs are integers, and we are deliberately casting\u001b[0m\u001b[1;33m\u001b[0m\u001b[1;33m\u001b[0m\u001b[1;33m\u001b[0m\u001b[0m\n",
      "\u001b[1;31mTypeError\u001b[0m: numpy boolean subtract, the `-` operator, is deprecated, use the bitwise_xor, the `^` operator, or the logical_xor function instead."
     ]
    },
    {
     "data": {
      "image/png": "[encoded data removed]",
      "text/plain": [
       "<Figure size 1080x1080 with 42 Axes>"
      ]
     },
     "metadata": {
      "needs_background": "light"
     },
     "output_type": "display_data"
    }
   ],
   "source": [
    "# `pairplot()` may become very slow with the SVG format\n",
    "# %config InlineBackend.figure_format = 'png'\n",
    "sns.pairplot(df[numerical]);"
   ]
  }
 ],
 "metadata": {
  "kernelspec": {
   "display_name": "Python 3",
   "language": "python",
   "name": "python3"
  },
  "language_info": {
   "codemirror_mode": {
    "name": "ipython",
    "version": 3
   },
   "file_extension": ".py",
   "mimetype": "text/x-python",
   "name": "python",
   "nbconvert_exporter": "python",
   "pygments_lexer": "ipython3",
   "version": "3.7.1"
  }
 },
 "nbformat": 4,
 "nbformat_minor": 2
}
